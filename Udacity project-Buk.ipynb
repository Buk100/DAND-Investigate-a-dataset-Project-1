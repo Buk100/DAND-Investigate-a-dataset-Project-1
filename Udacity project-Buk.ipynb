{
 "cells": [
  {
   "cell_type": "markdown",
   "id": "20296cdb",
   "metadata": {},
   "source": [
    "# Project: Medical Appointment Data Analysis\n",
    "\n",
    "## Table of Contents\n",
    "<ul>\n",
    "<li><a href=\"#intro\">Introduction</a></li>\n",
    "<li><a href=\"#wrangling\">Data Wrangling</a></li>\n",
    "<li><a href=\"#eda\">Exploratory Data Analysis</a></li>\n",
    "<li><a href=\"#conclusions\">Conclusions</a></li>\n",
    "</ul>\n",
    "\n",
    "\n"
   ]
  },
  {
   "cell_type": "markdown",
   "id": "592ddb6b",
   "metadata": {},
   "source": [
    "<a id='intro'></a>\n",
    "## Introduction\n",
    "\n",
    "In this project, I will be analysing data related to the medical appointments of patients. The information in this dataset was collected from over 100,000 medical appointments in Brazil\n",
    "\n",
    "I will be investigating questions related to how patients showed up for their medical appointments. I will find how patients who showed up for their appointments differ from patients who didn't."
   ]
  },
  {
   "cell_type": "code",
   "execution_count": 223,
   "id": "2c631f5e",
   "metadata": {},
   "outputs": [],
   "source": [
    "# Import all libraries needed for the data analysis\n",
    "\n",
    "import pandas as pd\n",
    "import numpy as np\n",
    "import matplotlib.pyplot as plt\n",
    "import seaborn as sns\n",
    "%matplotlib inline\n"
   ]
  },
  {
   "cell_type": "markdown",
   "id": "9919677c",
   "metadata": {},
   "source": [
    "\n",
    "<a id='wrangling'></a>\n",
    "## Data Wrangling\n",
    "\n",
    "### General Properties"
   ]
  },
  {
   "cell_type": "code",
   "execution_count": 224,
   "id": "4b2375e1",
   "metadata": {},
   "outputs": [
    {
     "data": {
      "text/html": [
       "<div>\n",
       "<style scoped>\n",
       "    .dataframe tbody tr th:only-of-type {\n",
       "        vertical-align: middle;\n",
       "    }\n",
       "\n",
       "    .dataframe tbody tr th {\n",
       "        vertical-align: top;\n",
       "    }\n",
       "\n",
       "    .dataframe thead th {\n",
       "        text-align: right;\n",
       "    }\n",
       "</style>\n",
       "<table border=\"1\" class=\"dataframe\">\n",
       "  <thead>\n",
       "    <tr style=\"text-align: right;\">\n",
       "      <th></th>\n",
       "      <th>PatientId</th>\n",
       "      <th>AppointmentID</th>\n",
       "      <th>Gender</th>\n",
       "      <th>ScheduledDay</th>\n",
       "      <th>AppointmentDay</th>\n",
       "      <th>Age</th>\n",
       "      <th>Neighbourhood</th>\n",
       "      <th>Scholarship</th>\n",
       "      <th>Hipertension</th>\n",
       "      <th>Diabetes</th>\n",
       "      <th>Alcoholism</th>\n",
       "      <th>Handcap</th>\n",
       "      <th>SMS_received</th>\n",
       "      <th>No-show</th>\n",
       "    </tr>\n",
       "  </thead>\n",
       "  <tbody>\n",
       "    <tr>\n",
       "      <th>0</th>\n",
       "      <td>2.987250e+13</td>\n",
       "      <td>5642903</td>\n",
       "      <td>F</td>\n",
       "      <td>2016-04-29T18:38:08Z</td>\n",
       "      <td>2016-04-29T00:00:00Z</td>\n",
       "      <td>62</td>\n",
       "      <td>JARDIM DA PENHA</td>\n",
       "      <td>0</td>\n",
       "      <td>1</td>\n",
       "      <td>0</td>\n",
       "      <td>0</td>\n",
       "      <td>0</td>\n",
       "      <td>0</td>\n",
       "      <td>No</td>\n",
       "    </tr>\n",
       "    <tr>\n",
       "      <th>1</th>\n",
       "      <td>5.589978e+14</td>\n",
       "      <td>5642503</td>\n",
       "      <td>M</td>\n",
       "      <td>2016-04-29T16:08:27Z</td>\n",
       "      <td>2016-04-29T00:00:00Z</td>\n",
       "      <td>56</td>\n",
       "      <td>JARDIM DA PENHA</td>\n",
       "      <td>0</td>\n",
       "      <td>0</td>\n",
       "      <td>0</td>\n",
       "      <td>0</td>\n",
       "      <td>0</td>\n",
       "      <td>0</td>\n",
       "      <td>No</td>\n",
       "    </tr>\n",
       "    <tr>\n",
       "      <th>2</th>\n",
       "      <td>4.262962e+12</td>\n",
       "      <td>5642549</td>\n",
       "      <td>F</td>\n",
       "      <td>2016-04-29T16:19:04Z</td>\n",
       "      <td>2016-04-29T00:00:00Z</td>\n",
       "      <td>62</td>\n",
       "      <td>MATA DA PRAIA</td>\n",
       "      <td>0</td>\n",
       "      <td>0</td>\n",
       "      <td>0</td>\n",
       "      <td>0</td>\n",
       "      <td>0</td>\n",
       "      <td>0</td>\n",
       "      <td>No</td>\n",
       "    </tr>\n",
       "    <tr>\n",
       "      <th>3</th>\n",
       "      <td>8.679512e+11</td>\n",
       "      <td>5642828</td>\n",
       "      <td>F</td>\n",
       "      <td>2016-04-29T17:29:31Z</td>\n",
       "      <td>2016-04-29T00:00:00Z</td>\n",
       "      <td>8</td>\n",
       "      <td>PONTAL DE CAMBURI</td>\n",
       "      <td>0</td>\n",
       "      <td>0</td>\n",
       "      <td>0</td>\n",
       "      <td>0</td>\n",
       "      <td>0</td>\n",
       "      <td>0</td>\n",
       "      <td>No</td>\n",
       "    </tr>\n",
       "    <tr>\n",
       "      <th>4</th>\n",
       "      <td>8.841186e+12</td>\n",
       "      <td>5642494</td>\n",
       "      <td>F</td>\n",
       "      <td>2016-04-29T16:07:23Z</td>\n",
       "      <td>2016-04-29T00:00:00Z</td>\n",
       "      <td>56</td>\n",
       "      <td>JARDIM DA PENHA</td>\n",
       "      <td>0</td>\n",
       "      <td>1</td>\n",
       "      <td>1</td>\n",
       "      <td>0</td>\n",
       "      <td>0</td>\n",
       "      <td>0</td>\n",
       "      <td>No</td>\n",
       "    </tr>\n",
       "  </tbody>\n",
       "</table>\n",
       "</div>"
      ],
      "text/plain": [
       "      PatientId  AppointmentID Gender          ScheduledDay  \\\n",
       "0  2.987250e+13        5642903      F  2016-04-29T18:38:08Z   \n",
       "1  5.589978e+14        5642503      M  2016-04-29T16:08:27Z   \n",
       "2  4.262962e+12        5642549      F  2016-04-29T16:19:04Z   \n",
       "3  8.679512e+11        5642828      F  2016-04-29T17:29:31Z   \n",
       "4  8.841186e+12        5642494      F  2016-04-29T16:07:23Z   \n",
       "\n",
       "         AppointmentDay  Age      Neighbourhood  Scholarship  Hipertension  \\\n",
       "0  2016-04-29T00:00:00Z   62    JARDIM DA PENHA            0             1   \n",
       "1  2016-04-29T00:00:00Z   56    JARDIM DA PENHA            0             0   \n",
       "2  2016-04-29T00:00:00Z   62      MATA DA PRAIA            0             0   \n",
       "3  2016-04-29T00:00:00Z    8  PONTAL DE CAMBURI            0             0   \n",
       "4  2016-04-29T00:00:00Z   56    JARDIM DA PENHA            0             1   \n",
       "\n",
       "   Diabetes  Alcoholism  Handcap  SMS_received No-show  \n",
       "0         0           0        0             0      No  \n",
       "1         0           0        0             0      No  \n",
       "2         0           0        0             0      No  \n",
       "3         0           0        0             0      No  \n",
       "4         1           0        0             0      No  "
      ]
     },
     "execution_count": 224,
     "metadata": {},
     "output_type": "execute_result"
    }
   ],
   "source": [
    "# Read in the dataset and display first five rows\n",
    "df = pd.read_csv(\"no_show_appointment.csv\")\n",
    "df.head()"
   ]
  },
  {
   "cell_type": "code",
   "execution_count": 225,
   "id": "381f2936",
   "metadata": {},
   "outputs": [
    {
     "data": {
      "text/plain": [
       "(110527, 14)"
      ]
     },
     "execution_count": 225,
     "metadata": {},
     "output_type": "execute_result"
    }
   ],
   "source": [
    "# Check table rows and columns\n",
    "df.shape"
   ]
  },
  {
   "cell_type": "code",
   "execution_count": 226,
   "id": "6e8a9408",
   "metadata": {},
   "outputs": [
    {
     "name": "stdout",
     "output_type": "stream",
     "text": [
      "<class 'pandas.core.frame.DataFrame'>\n",
      "RangeIndex: 110527 entries, 0 to 110526\n",
      "Data columns (total 14 columns):\n",
      " #   Column          Non-Null Count   Dtype  \n",
      "---  ------          --------------   -----  \n",
      " 0   PatientId       110527 non-null  float64\n",
      " 1   AppointmentID   110527 non-null  int64  \n",
      " 2   Gender          110527 non-null  object \n",
      " 3   ScheduledDay    110527 non-null  object \n",
      " 4   AppointmentDay  110527 non-null  object \n",
      " 5   Age             110527 non-null  int64  \n",
      " 6   Neighbourhood   110527 non-null  object \n",
      " 7   Scholarship     110527 non-null  int64  \n",
      " 8   Hipertension    110527 non-null  int64  \n",
      " 9   Diabetes        110527 non-null  int64  \n",
      " 10  Alcoholism      110527 non-null  int64  \n",
      " 11  Handcap         110527 non-null  int64  \n",
      " 12  SMS_received    110527 non-null  int64  \n",
      " 13  No-show         110527 non-null  object \n",
      "dtypes: float64(1), int64(8), object(5)\n",
      "memory usage: 11.8+ MB\n"
     ]
    }
   ],
   "source": [
    "# The dataframe information\n",
    "df.info()"
   ]
  },
  {
   "cell_type": "markdown",
   "id": "0ba2eb0c",
   "metadata": {},
   "source": [
    "\n",
    "\n",
    "### Data Cleaning\n",
    "\n"
   ]
  },
  {
   "cell_type": "markdown",
   "id": "75aa41c9",
   "metadata": {},
   "source": [
    "The ScheduledDay and AppointmentDay columns contains date values but they are contained in string datatype rather than datetime datatype.\n",
    "\n",
    "I will be converting them to datetime datatype in the next codes so they will be fit for analysis."
   ]
  },
  {
   "cell_type": "code",
   "execution_count": 227,
   "id": "0c66c4a2",
   "metadata": {},
   "outputs": [
    {
     "data": {
      "text/plain": [
       "Index(['ScheduledDay', 'AppointmentDay'], dtype='object')"
      ]
     },
     "execution_count": 227,
     "metadata": {},
     "output_type": "execute_result"
    }
   ],
   "source": [
    "# convert ScheduledDay and AppointmentDay columns to datetime.\n",
    "#   First print out the two columns to be converted to datetime.\n",
    "cols =df.columns[3:5]\n",
    "cols"
   ]
  },
  {
   "cell_type": "code",
   "execution_count": 228,
   "id": "59eab835",
   "metadata": {},
   "outputs": [],
   "source": [
    "# Convert the two columns to datetime\n",
    "df[cols] = df[cols].apply(pd.to_datetime)"
   ]
  },
  {
   "cell_type": "code",
   "execution_count": 229,
   "id": "593e3e1f",
   "metadata": {},
   "outputs": [
    {
     "name": "stdout",
     "output_type": "stream",
     "text": [
      "<class 'pandas.core.frame.DataFrame'>\n",
      "RangeIndex: 110527 entries, 0 to 110526\n",
      "Data columns (total 14 columns):\n",
      " #   Column          Non-Null Count   Dtype              \n",
      "---  ------          --------------   -----              \n",
      " 0   PatientId       110527 non-null  float64            \n",
      " 1   AppointmentID   110527 non-null  int64              \n",
      " 2   Gender          110527 non-null  object             \n",
      " 3   ScheduledDay    110527 non-null  datetime64[ns, UTC]\n",
      " 4   AppointmentDay  110527 non-null  datetime64[ns, UTC]\n",
      " 5   Age             110527 non-null  int64              \n",
      " 6   Neighbourhood   110527 non-null  object             \n",
      " 7   Scholarship     110527 non-null  int64              \n",
      " 8   Hipertension    110527 non-null  int64              \n",
      " 9   Diabetes        110527 non-null  int64              \n",
      " 10  Alcoholism      110527 non-null  int64              \n",
      " 11  Handcap         110527 non-null  int64              \n",
      " 12  SMS_received    110527 non-null  int64              \n",
      " 13  No-show         110527 non-null  object             \n",
      "dtypes: datetime64[ns, UTC](2), float64(1), int64(8), object(3)\n",
      "memory usage: 11.8+ MB\n"
     ]
    }
   ],
   "source": [
    "# Check dataset information to confirm change\n",
    "df.info()"
   ]
  },
  {
   "cell_type": "markdown",
   "id": "1581e429",
   "metadata": {},
   "source": [
    "\n",
    "<a id='waiting_time'></a>\n",
    "### Note:\n",
    "Since I have converted ScheduledDay and AppointmentDay column to datetime datatype in the preceeding cells, I will be using both columns to determine the elapsed time.\n",
    "I will name the elapsed time waiting_time and create it in the dataframe.\n",
    "This will be useful in data exploration.\n",
    "\n",
    "waiting_time is the time difference between the time the patients booked an appointment with the doctor and the time the patients should see the doctor. \n",
    "The waiting time may be be within hours, days and even weeks or months."
   ]
  },
  {
   "cell_type": "code",
   "execution_count": 230,
   "id": "9b6be4fb",
   "metadata": {},
   "outputs": [],
   "source": [
    "# Calculate waiting time for ScheduledDay and AppointmentDay column\n",
    "#   Waiting time = AppointmentDay - ScheduledDay\n",
    "\n",
    "df[\"waiting_time\"] = df[\"AppointmentDay\"] - df[\"ScheduledDay\"]"
   ]
  },
  {
   "cell_type": "code",
   "execution_count": 231,
   "id": "7c4b4b76",
   "metadata": {},
   "outputs": [
    {
     "data": {
      "text/html": [
       "<div>\n",
       "<style scoped>\n",
       "    .dataframe tbody tr th:only-of-type {\n",
       "        vertical-align: middle;\n",
       "    }\n",
       "\n",
       "    .dataframe tbody tr th {\n",
       "        vertical-align: top;\n",
       "    }\n",
       "\n",
       "    .dataframe thead th {\n",
       "        text-align: right;\n",
       "    }\n",
       "</style>\n",
       "<table border=\"1\" class=\"dataframe\">\n",
       "  <thead>\n",
       "    <tr style=\"text-align: right;\">\n",
       "      <th></th>\n",
       "      <th>PatientId</th>\n",
       "      <th>AppointmentID</th>\n",
       "      <th>Gender</th>\n",
       "      <th>ScheduledDay</th>\n",
       "      <th>AppointmentDay</th>\n",
       "      <th>Age</th>\n",
       "      <th>Neighbourhood</th>\n",
       "      <th>Scholarship</th>\n",
       "      <th>Hipertension</th>\n",
       "      <th>Diabetes</th>\n",
       "      <th>Alcoholism</th>\n",
       "      <th>Handcap</th>\n",
       "      <th>SMS_received</th>\n",
       "      <th>No-show</th>\n",
       "      <th>waiting_time</th>\n",
       "    </tr>\n",
       "  </thead>\n",
       "  <tbody>\n",
       "    <tr>\n",
       "      <th>0</th>\n",
       "      <td>2.987250e+13</td>\n",
       "      <td>5642903</td>\n",
       "      <td>F</td>\n",
       "      <td>2016-04-29 18:38:08+00:00</td>\n",
       "      <td>2016-04-29 00:00:00+00:00</td>\n",
       "      <td>62</td>\n",
       "      <td>JARDIM DA PENHA</td>\n",
       "      <td>0</td>\n",
       "      <td>1</td>\n",
       "      <td>0</td>\n",
       "      <td>0</td>\n",
       "      <td>0</td>\n",
       "      <td>0</td>\n",
       "      <td>No</td>\n",
       "      <td>-1 days +05:21:52</td>\n",
       "    </tr>\n",
       "    <tr>\n",
       "      <th>1</th>\n",
       "      <td>5.589978e+14</td>\n",
       "      <td>5642503</td>\n",
       "      <td>M</td>\n",
       "      <td>2016-04-29 16:08:27+00:00</td>\n",
       "      <td>2016-04-29 00:00:00+00:00</td>\n",
       "      <td>56</td>\n",
       "      <td>JARDIM DA PENHA</td>\n",
       "      <td>0</td>\n",
       "      <td>0</td>\n",
       "      <td>0</td>\n",
       "      <td>0</td>\n",
       "      <td>0</td>\n",
       "      <td>0</td>\n",
       "      <td>No</td>\n",
       "      <td>-1 days +07:51:33</td>\n",
       "    </tr>\n",
       "    <tr>\n",
       "      <th>2</th>\n",
       "      <td>4.262962e+12</td>\n",
       "      <td>5642549</td>\n",
       "      <td>F</td>\n",
       "      <td>2016-04-29 16:19:04+00:00</td>\n",
       "      <td>2016-04-29 00:00:00+00:00</td>\n",
       "      <td>62</td>\n",
       "      <td>MATA DA PRAIA</td>\n",
       "      <td>0</td>\n",
       "      <td>0</td>\n",
       "      <td>0</td>\n",
       "      <td>0</td>\n",
       "      <td>0</td>\n",
       "      <td>0</td>\n",
       "      <td>No</td>\n",
       "      <td>-1 days +07:40:56</td>\n",
       "    </tr>\n",
       "    <tr>\n",
       "      <th>3</th>\n",
       "      <td>8.679512e+11</td>\n",
       "      <td>5642828</td>\n",
       "      <td>F</td>\n",
       "      <td>2016-04-29 17:29:31+00:00</td>\n",
       "      <td>2016-04-29 00:00:00+00:00</td>\n",
       "      <td>8</td>\n",
       "      <td>PONTAL DE CAMBURI</td>\n",
       "      <td>0</td>\n",
       "      <td>0</td>\n",
       "      <td>0</td>\n",
       "      <td>0</td>\n",
       "      <td>0</td>\n",
       "      <td>0</td>\n",
       "      <td>No</td>\n",
       "      <td>-1 days +06:30:29</td>\n",
       "    </tr>\n",
       "    <tr>\n",
       "      <th>4</th>\n",
       "      <td>8.841186e+12</td>\n",
       "      <td>5642494</td>\n",
       "      <td>F</td>\n",
       "      <td>2016-04-29 16:07:23+00:00</td>\n",
       "      <td>2016-04-29 00:00:00+00:00</td>\n",
       "      <td>56</td>\n",
       "      <td>JARDIM DA PENHA</td>\n",
       "      <td>0</td>\n",
       "      <td>1</td>\n",
       "      <td>1</td>\n",
       "      <td>0</td>\n",
       "      <td>0</td>\n",
       "      <td>0</td>\n",
       "      <td>No</td>\n",
       "      <td>-1 days +07:52:37</td>\n",
       "    </tr>\n",
       "  </tbody>\n",
       "</table>\n",
       "</div>"
      ],
      "text/plain": [
       "      PatientId  AppointmentID Gender              ScheduledDay  \\\n",
       "0  2.987250e+13        5642903      F 2016-04-29 18:38:08+00:00   \n",
       "1  5.589978e+14        5642503      M 2016-04-29 16:08:27+00:00   \n",
       "2  4.262962e+12        5642549      F 2016-04-29 16:19:04+00:00   \n",
       "3  8.679512e+11        5642828      F 2016-04-29 17:29:31+00:00   \n",
       "4  8.841186e+12        5642494      F 2016-04-29 16:07:23+00:00   \n",
       "\n",
       "             AppointmentDay  Age      Neighbourhood  Scholarship  \\\n",
       "0 2016-04-29 00:00:00+00:00   62    JARDIM DA PENHA            0   \n",
       "1 2016-04-29 00:00:00+00:00   56    JARDIM DA PENHA            0   \n",
       "2 2016-04-29 00:00:00+00:00   62      MATA DA PRAIA            0   \n",
       "3 2016-04-29 00:00:00+00:00    8  PONTAL DE CAMBURI            0   \n",
       "4 2016-04-29 00:00:00+00:00   56    JARDIM DA PENHA            0   \n",
       "\n",
       "   Hipertension  Diabetes  Alcoholism  Handcap  SMS_received No-show  \\\n",
       "0             1         0           0        0             0      No   \n",
       "1             0         0           0        0             0      No   \n",
       "2             0         0           0        0             0      No   \n",
       "3             0         0           0        0             0      No   \n",
       "4             1         1           0        0             0      No   \n",
       "\n",
       "       waiting_time  \n",
       "0 -1 days +05:21:52  \n",
       "1 -1 days +07:51:33  \n",
       "2 -1 days +07:40:56  \n",
       "3 -1 days +06:30:29  \n",
       "4 -1 days +07:52:37  "
      ]
     },
     "execution_count": 231,
     "metadata": {},
     "output_type": "execute_result"
    }
   ],
   "source": [
    "# Print dataframe to confirm waiting_time column has been created in the dataframe.\n",
    "df.head()"
   ]
  },
  {
   "cell_type": "markdown",
   "id": "74b48908",
   "metadata": {},
   "source": [
    "### Note:\n",
    "\n",
    "Oops! The waiting_time column was created at the end of the dataframe. I would want this to appear just \n",
    "after the ScheduledDay and AppointmentDay column for easy access and consistency.\n",
    "\n",
    "Now, I will move the waiting_time column to the position following ScheduledDay and AppointmentDay.\n",
    "This position is at column index 5. \n",
    "What that meant is that I will be moving the waiting_time column to the 5th index.\n",
    "\n",
    "I will achieve this in two steps:\n",
    "\n",
    "First, I will remove the waiting_time column from the dataframe and store it in a variable named save_data.\n",
    "\n",
    "Secondly, I will insert the content of the save_column variable into the dataframe at column undex 5."
   ]
  },
  {
   "cell_type": "markdown",
   "id": "84b3e231",
   "metadata": {},
   "source": [
    "### Warning!\n",
    "\n",
    " _If the codes in the next cell throws an error, This is because when the code is run the first time. The waiting_time data is  popped out from the dataframe.  At second running of the code, The program will not find any waiting_time data to pop out. hence, the reason it throws an error._\n",
    " \n",
    " _Similar situation occurs in the second cell, it may throw an error at second run.\n",
    "  If you run into this issue, rerun the code <a href=\"#waiting_time\">**here**</a>. That's the code where the waiting time column      was created. You can also scroll up to run it._"
   ]
  },
  {
   "cell_type": "code",
   "execution_count": 232,
   "id": "ecac41ad",
   "metadata": {},
   "outputs": [],
   "source": [
    "# First remove the waiting_time column and save in save_data variable\n",
    "\n",
    "save_data = df.pop(\"waiting_time\") \n"
   ]
  },
  {
   "cell_type": "code",
   "execution_count": 233,
   "id": "3272f9ad",
   "metadata": {},
   "outputs": [],
   "source": [
    "# Now, insert the waiting_time column in column 5\n",
    "df.insert(5, \"waiting_time\", save_data)"
   ]
  },
  {
   "cell_type": "code",
   "execution_count": 234,
   "id": "7602fb63",
   "metadata": {},
   "outputs": [
    {
     "name": "stdout",
     "output_type": "stream",
     "text": [
      "<class 'pandas.core.frame.DataFrame'>\n",
      "RangeIndex: 110527 entries, 0 to 110526\n",
      "Data columns (total 15 columns):\n",
      " #   Column          Non-Null Count   Dtype              \n",
      "---  ------          --------------   -----              \n",
      " 0   PatientId       110527 non-null  float64            \n",
      " 1   AppointmentID   110527 non-null  int64              \n",
      " 2   Gender          110527 non-null  object             \n",
      " 3   ScheduledDay    110527 non-null  datetime64[ns, UTC]\n",
      " 4   AppointmentDay  110527 non-null  datetime64[ns, UTC]\n",
      " 5   waiting_time    110527 non-null  timedelta64[ns]    \n",
      " 6   Age             110527 non-null  int64              \n",
      " 7   Neighbourhood   110527 non-null  object             \n",
      " 8   Scholarship     110527 non-null  int64              \n",
      " 9   Hipertension    110527 non-null  int64              \n",
      " 10  Diabetes        110527 non-null  int64              \n",
      " 11  Alcoholism      110527 non-null  int64              \n",
      " 12  Handcap         110527 non-null  int64              \n",
      " 13  SMS_received    110527 non-null  int64              \n",
      " 14  No-show         110527 non-null  object             \n",
      "dtypes: datetime64[ns, UTC](2), float64(1), int64(8), object(3), timedelta64[ns](1)\n",
      "memory usage: 12.6+ MB\n"
     ]
    }
   ],
   "source": [
    "# Check  information to confirm new update to the dataframe.\n",
    "df.info()"
   ]
  },
  {
   "cell_type": "code",
   "execution_count": 235,
   "id": "8666ce30",
   "metadata": {
    "scrolled": false
   },
   "outputs": [
    {
     "data": {
      "text/html": [
       "<div>\n",
       "<style scoped>\n",
       "    .dataframe tbody tr th:only-of-type {\n",
       "        vertical-align: middle;\n",
       "    }\n",
       "\n",
       "    .dataframe tbody tr th {\n",
       "        vertical-align: top;\n",
       "    }\n",
       "\n",
       "    .dataframe thead th {\n",
       "        text-align: right;\n",
       "    }\n",
       "</style>\n",
       "<table border=\"1\" class=\"dataframe\">\n",
       "  <thead>\n",
       "    <tr style=\"text-align: right;\">\n",
       "      <th></th>\n",
       "      <th>PatientId</th>\n",
       "      <th>AppointmentID</th>\n",
       "      <th>Gender</th>\n",
       "      <th>ScheduledDay</th>\n",
       "      <th>AppointmentDay</th>\n",
       "      <th>waiting_time</th>\n",
       "      <th>Age</th>\n",
       "      <th>Neighbourhood</th>\n",
       "      <th>Scholarship</th>\n",
       "      <th>Hipertension</th>\n",
       "      <th>Diabetes</th>\n",
       "      <th>Alcoholism</th>\n",
       "      <th>Handcap</th>\n",
       "      <th>SMS_received</th>\n",
       "      <th>No-show</th>\n",
       "    </tr>\n",
       "  </thead>\n",
       "  <tbody>\n",
       "    <tr>\n",
       "      <th>0</th>\n",
       "      <td>2.987250e+13</td>\n",
       "      <td>5642903</td>\n",
       "      <td>F</td>\n",
       "      <td>2016-04-29 18:38:08+00:00</td>\n",
       "      <td>2016-04-29 00:00:00+00:00</td>\n",
       "      <td>-1 days +05:21:52</td>\n",
       "      <td>62</td>\n",
       "      <td>JARDIM DA PENHA</td>\n",
       "      <td>0</td>\n",
       "      <td>1</td>\n",
       "      <td>0</td>\n",
       "      <td>0</td>\n",
       "      <td>0</td>\n",
       "      <td>0</td>\n",
       "      <td>No</td>\n",
       "    </tr>\n",
       "    <tr>\n",
       "      <th>1</th>\n",
       "      <td>5.589978e+14</td>\n",
       "      <td>5642503</td>\n",
       "      <td>M</td>\n",
       "      <td>2016-04-29 16:08:27+00:00</td>\n",
       "      <td>2016-04-29 00:00:00+00:00</td>\n",
       "      <td>-1 days +07:51:33</td>\n",
       "      <td>56</td>\n",
       "      <td>JARDIM DA PENHA</td>\n",
       "      <td>0</td>\n",
       "      <td>0</td>\n",
       "      <td>0</td>\n",
       "      <td>0</td>\n",
       "      <td>0</td>\n",
       "      <td>0</td>\n",
       "      <td>No</td>\n",
       "    </tr>\n",
       "    <tr>\n",
       "      <th>2</th>\n",
       "      <td>4.262962e+12</td>\n",
       "      <td>5642549</td>\n",
       "      <td>F</td>\n",
       "      <td>2016-04-29 16:19:04+00:00</td>\n",
       "      <td>2016-04-29 00:00:00+00:00</td>\n",
       "      <td>-1 days +07:40:56</td>\n",
       "      <td>62</td>\n",
       "      <td>MATA DA PRAIA</td>\n",
       "      <td>0</td>\n",
       "      <td>0</td>\n",
       "      <td>0</td>\n",
       "      <td>0</td>\n",
       "      <td>0</td>\n",
       "      <td>0</td>\n",
       "      <td>No</td>\n",
       "    </tr>\n",
       "    <tr>\n",
       "      <th>3</th>\n",
       "      <td>8.679512e+11</td>\n",
       "      <td>5642828</td>\n",
       "      <td>F</td>\n",
       "      <td>2016-04-29 17:29:31+00:00</td>\n",
       "      <td>2016-04-29 00:00:00+00:00</td>\n",
       "      <td>-1 days +06:30:29</td>\n",
       "      <td>8</td>\n",
       "      <td>PONTAL DE CAMBURI</td>\n",
       "      <td>0</td>\n",
       "      <td>0</td>\n",
       "      <td>0</td>\n",
       "      <td>0</td>\n",
       "      <td>0</td>\n",
       "      <td>0</td>\n",
       "      <td>No</td>\n",
       "    </tr>\n",
       "    <tr>\n",
       "      <th>4</th>\n",
       "      <td>8.841186e+12</td>\n",
       "      <td>5642494</td>\n",
       "      <td>F</td>\n",
       "      <td>2016-04-29 16:07:23+00:00</td>\n",
       "      <td>2016-04-29 00:00:00+00:00</td>\n",
       "      <td>-1 days +07:52:37</td>\n",
       "      <td>56</td>\n",
       "      <td>JARDIM DA PENHA</td>\n",
       "      <td>0</td>\n",
       "      <td>1</td>\n",
       "      <td>1</td>\n",
       "      <td>0</td>\n",
       "      <td>0</td>\n",
       "      <td>0</td>\n",
       "      <td>No</td>\n",
       "    </tr>\n",
       "  </tbody>\n",
       "</table>\n",
       "</div>"
      ],
      "text/plain": [
       "      PatientId  AppointmentID Gender              ScheduledDay  \\\n",
       "0  2.987250e+13        5642903      F 2016-04-29 18:38:08+00:00   \n",
       "1  5.589978e+14        5642503      M 2016-04-29 16:08:27+00:00   \n",
       "2  4.262962e+12        5642549      F 2016-04-29 16:19:04+00:00   \n",
       "3  8.679512e+11        5642828      F 2016-04-29 17:29:31+00:00   \n",
       "4  8.841186e+12        5642494      F 2016-04-29 16:07:23+00:00   \n",
       "\n",
       "             AppointmentDay      waiting_time  Age      Neighbourhood  \\\n",
       "0 2016-04-29 00:00:00+00:00 -1 days +05:21:52   62    JARDIM DA PENHA   \n",
       "1 2016-04-29 00:00:00+00:00 -1 days +07:51:33   56    JARDIM DA PENHA   \n",
       "2 2016-04-29 00:00:00+00:00 -1 days +07:40:56   62      MATA DA PRAIA   \n",
       "3 2016-04-29 00:00:00+00:00 -1 days +06:30:29    8  PONTAL DE CAMBURI   \n",
       "4 2016-04-29 00:00:00+00:00 -1 days +07:52:37   56    JARDIM DA PENHA   \n",
       "\n",
       "   Scholarship  Hipertension  Diabetes  Alcoholism  Handcap  SMS_received  \\\n",
       "0            0             1         0           0        0             0   \n",
       "1            0             0         0           0        0             0   \n",
       "2            0             0         0           0        0             0   \n",
       "3            0             0         0           0        0             0   \n",
       "4            0             1         1           0        0             0   \n",
       "\n",
       "  No-show  \n",
       "0      No  \n",
       "1      No  \n",
       "2      No  \n",
       "3      No  \n",
       "4      No  "
      ]
     },
     "execution_count": 235,
     "metadata": {},
     "output_type": "execute_result"
    }
   ],
   "source": [
    "# print first five rows to re-confirm.\n",
    "df.head()"
   ]
  },
  {
   "cell_type": "markdown",
   "id": "7ac0a070",
   "metadata": {},
   "source": [
    "### Note: \n",
    "\n",
    "I observe that the waiting_time column has negative values. This occured because the scheduledDay date is greater than the AppointmentDay date.\n",
    "It should be otherwise. Since the patient can only have an appointment day after he had scheduled an appointment with the doctor, the scheduled day should not be larger than the appointment day. I am assuming the negative values seen in the waiting_time column must have been an error from either the scheduledDay and AppointmentDay column.\n",
    "\n",
    "Hence, I will be dropping the rows with negative waiting_time in the next set of codes."
   ]
  },
  {
   "cell_type": "markdown",
   "id": "c81e944d",
   "metadata": {},
   "source": [
    "### Note:\n",
    "\n",
    "After trying to drop rows with negative waiting_time values, It threw up an error. \n",
    "\n",
    "This is because the waiting_time column is a timedelta datatype. It's not possible to perform a boolean operation with the timedelta value with an integer value.\n",
    "\n",
    "To solve this problem, I'll create a new column called waiting_hour. The waiting_hour will be a numeric conversion of the waiting_time column.\n",
    " \n",
    "Creating a numeric type of the waiting_time column will also help in the data exploration stage when I will show the distribution of the patients' waiting time on a histogram.\n",
    "\n",
    "That's because the waiting_time timedelta datatype is not compatible for plotting histogram.\n",
    "\n",
    "In the next code, I will be using **Numpy** timedelta64 with astype() method to convert waiting_time to hours.\n",
    "\n",
    "The waiting_hour column will make it convenient to perform boolean operation in order to filter out the data with negative waiting time values."
   ]
  },
  {
   "cell_type": "code",
   "execution_count": 236,
   "id": "2703e19d",
   "metadata": {
    "scrolled": false
   },
   "outputs": [
    {
     "data": {
      "text/plain": [
       "0         -19.0\n",
       "1         -17.0\n",
       "2         -17.0\n",
       "3         -18.0\n",
       "4         -17.0\n",
       "          ...  \n",
       "110522    830.0\n",
       "110523    832.0\n",
       "110524    967.0\n",
       "110525    968.0\n",
       "110526    970.0\n",
       "Name: waiting_time, Length: 110527, dtype: float64"
      ]
     },
     "execution_count": 236,
     "metadata": {},
     "output_type": "execute_result"
    }
   ],
   "source": [
    "# df.drop(\"waiting_hour\", axis =1, inplace=True)  # Only remove comment if you run into an error after running the next cell.\n",
    "\n",
    "# Note that timedelta64 is a Numpy function but I don't have to import the numpy library directly because\n",
    "# It's now compatible with pandas.\n",
    "\n",
    "waiting_hour = df[\"waiting_time\"].astype(\"timedelta64[h]\")\n",
    "waiting_hour"
   ]
  },
  {
   "cell_type": "markdown",
   "id": "619b74a4",
   "metadata": {},
   "source": [
    "### Warning!\n",
    "\n",
    "You may run into an error if the code in the following cell is run more than once.\n",
    "I explained the reason for this earlier.\n",
    "To solve this issue, I added a code to drop the waiting_hour column in  the first line of the preceeding cell. Remove the comment and run the code. \n",
    "Then return to the next cell to rerun. It should work fine."
   ]
  },
  {
   "cell_type": "code",
   "execution_count": 237,
   "id": "1ead5039",
   "metadata": {},
   "outputs": [],
   "source": [
    "# Insert the previously created waiting_hour variable into the datframe at position 6 \n",
    "df.insert(6, \"waiting_hour\", waiting_hour)"
   ]
  },
  {
   "cell_type": "code",
   "execution_count": 238,
   "id": "37a74154",
   "metadata": {
    "scrolled": true
   },
   "outputs": [
    {
     "data": {
      "text/html": [
       "<div>\n",
       "<style scoped>\n",
       "    .dataframe tbody tr th:only-of-type {\n",
       "        vertical-align: middle;\n",
       "    }\n",
       "\n",
       "    .dataframe tbody tr th {\n",
       "        vertical-align: top;\n",
       "    }\n",
       "\n",
       "    .dataframe thead th {\n",
       "        text-align: right;\n",
       "    }\n",
       "</style>\n",
       "<table border=\"1\" class=\"dataframe\">\n",
       "  <thead>\n",
       "    <tr style=\"text-align: right;\">\n",
       "      <th></th>\n",
       "      <th>PatientId</th>\n",
       "      <th>AppointmentID</th>\n",
       "      <th>Gender</th>\n",
       "      <th>ScheduledDay</th>\n",
       "      <th>AppointmentDay</th>\n",
       "      <th>waiting_time</th>\n",
       "      <th>waiting_hour</th>\n",
       "      <th>Age</th>\n",
       "      <th>Neighbourhood</th>\n",
       "      <th>Scholarship</th>\n",
       "      <th>Hipertension</th>\n",
       "      <th>Diabetes</th>\n",
       "      <th>Alcoholism</th>\n",
       "      <th>Handcap</th>\n",
       "      <th>SMS_received</th>\n",
       "      <th>No-show</th>\n",
       "    </tr>\n",
       "  </thead>\n",
       "  <tbody>\n",
       "    <tr>\n",
       "      <th>0</th>\n",
       "      <td>2.987250e+13</td>\n",
       "      <td>5642903</td>\n",
       "      <td>F</td>\n",
       "      <td>2016-04-29 18:38:08+00:00</td>\n",
       "      <td>2016-04-29 00:00:00+00:00</td>\n",
       "      <td>-1 days +05:21:52</td>\n",
       "      <td>-19.0</td>\n",
       "      <td>62</td>\n",
       "      <td>JARDIM DA PENHA</td>\n",
       "      <td>0</td>\n",
       "      <td>1</td>\n",
       "      <td>0</td>\n",
       "      <td>0</td>\n",
       "      <td>0</td>\n",
       "      <td>0</td>\n",
       "      <td>No</td>\n",
       "    </tr>\n",
       "    <tr>\n",
       "      <th>1</th>\n",
       "      <td>5.589978e+14</td>\n",
       "      <td>5642503</td>\n",
       "      <td>M</td>\n",
       "      <td>2016-04-29 16:08:27+00:00</td>\n",
       "      <td>2016-04-29 00:00:00+00:00</td>\n",
       "      <td>-1 days +07:51:33</td>\n",
       "      <td>-17.0</td>\n",
       "      <td>56</td>\n",
       "      <td>JARDIM DA PENHA</td>\n",
       "      <td>0</td>\n",
       "      <td>0</td>\n",
       "      <td>0</td>\n",
       "      <td>0</td>\n",
       "      <td>0</td>\n",
       "      <td>0</td>\n",
       "      <td>No</td>\n",
       "    </tr>\n",
       "    <tr>\n",
       "      <th>2</th>\n",
       "      <td>4.262962e+12</td>\n",
       "      <td>5642549</td>\n",
       "      <td>F</td>\n",
       "      <td>2016-04-29 16:19:04+00:00</td>\n",
       "      <td>2016-04-29 00:00:00+00:00</td>\n",
       "      <td>-1 days +07:40:56</td>\n",
       "      <td>-17.0</td>\n",
       "      <td>62</td>\n",
       "      <td>MATA DA PRAIA</td>\n",
       "      <td>0</td>\n",
       "      <td>0</td>\n",
       "      <td>0</td>\n",
       "      <td>0</td>\n",
       "      <td>0</td>\n",
       "      <td>0</td>\n",
       "      <td>No</td>\n",
       "    </tr>\n",
       "    <tr>\n",
       "      <th>3</th>\n",
       "      <td>8.679512e+11</td>\n",
       "      <td>5642828</td>\n",
       "      <td>F</td>\n",
       "      <td>2016-04-29 17:29:31+00:00</td>\n",
       "      <td>2016-04-29 00:00:00+00:00</td>\n",
       "      <td>-1 days +06:30:29</td>\n",
       "      <td>-18.0</td>\n",
       "      <td>8</td>\n",
       "      <td>PONTAL DE CAMBURI</td>\n",
       "      <td>0</td>\n",
       "      <td>0</td>\n",
       "      <td>0</td>\n",
       "      <td>0</td>\n",
       "      <td>0</td>\n",
       "      <td>0</td>\n",
       "      <td>No</td>\n",
       "    </tr>\n",
       "    <tr>\n",
       "      <th>4</th>\n",
       "      <td>8.841186e+12</td>\n",
       "      <td>5642494</td>\n",
       "      <td>F</td>\n",
       "      <td>2016-04-29 16:07:23+00:00</td>\n",
       "      <td>2016-04-29 00:00:00+00:00</td>\n",
       "      <td>-1 days +07:52:37</td>\n",
       "      <td>-17.0</td>\n",
       "      <td>56</td>\n",
       "      <td>JARDIM DA PENHA</td>\n",
       "      <td>0</td>\n",
       "      <td>1</td>\n",
       "      <td>1</td>\n",
       "      <td>0</td>\n",
       "      <td>0</td>\n",
       "      <td>0</td>\n",
       "      <td>No</td>\n",
       "    </tr>\n",
       "  </tbody>\n",
       "</table>\n",
       "</div>"
      ],
      "text/plain": [
       "      PatientId  AppointmentID Gender              ScheduledDay  \\\n",
       "0  2.987250e+13        5642903      F 2016-04-29 18:38:08+00:00   \n",
       "1  5.589978e+14        5642503      M 2016-04-29 16:08:27+00:00   \n",
       "2  4.262962e+12        5642549      F 2016-04-29 16:19:04+00:00   \n",
       "3  8.679512e+11        5642828      F 2016-04-29 17:29:31+00:00   \n",
       "4  8.841186e+12        5642494      F 2016-04-29 16:07:23+00:00   \n",
       "\n",
       "             AppointmentDay      waiting_time  waiting_hour  Age  \\\n",
       "0 2016-04-29 00:00:00+00:00 -1 days +05:21:52         -19.0   62   \n",
       "1 2016-04-29 00:00:00+00:00 -1 days +07:51:33         -17.0   56   \n",
       "2 2016-04-29 00:00:00+00:00 -1 days +07:40:56         -17.0   62   \n",
       "3 2016-04-29 00:00:00+00:00 -1 days +06:30:29         -18.0    8   \n",
       "4 2016-04-29 00:00:00+00:00 -1 days +07:52:37         -17.0   56   \n",
       "\n",
       "       Neighbourhood  Scholarship  Hipertension  Diabetes  Alcoholism  \\\n",
       "0    JARDIM DA PENHA            0             1         0           0   \n",
       "1    JARDIM DA PENHA            0             0         0           0   \n",
       "2      MATA DA PRAIA            0             0         0           0   \n",
       "3  PONTAL DE CAMBURI            0             0         0           0   \n",
       "4    JARDIM DA PENHA            0             1         1           0   \n",
       "\n",
       "   Handcap  SMS_received No-show  \n",
       "0        0             0      No  \n",
       "1        0             0      No  \n",
       "2        0             0      No  \n",
       "3        0             0      No  \n",
       "4        0             0      No  "
      ]
     },
     "execution_count": 238,
     "metadata": {},
     "output_type": "execute_result"
    }
   ],
   "source": [
    "# Print first five rows to confirm update.\n",
    "df.head()"
   ]
  },
  {
   "cell_type": "markdown",
   "id": "e0da19e7",
   "metadata": {},
   "source": [
    "### Note:\n",
    "\n",
    "Next, I will filter out the column with negative waiting_hour values in the next cell.\n",
    "I decide to perform the filtering directly without using the drop() function or the pandas query function.\n",
    "The pandas query function once gave me an hard time when I performed an initial filtering operation with the No-show column.\n",
    "I later found out it was the hyphen in \"No-show\" column label that caused the issue.\n",
    "To avoid issues like this, I will not be using the pandas query function for filtering in this project."
   ]
  },
  {
   "cell_type": "code",
   "execution_count": 239,
   "id": "4462704a",
   "metadata": {},
   "outputs": [
    {
     "data": {
      "text/plain": [
       "0         False\n",
       "1         False\n",
       "2         False\n",
       "3         False\n",
       "4         False\n",
       "          ...  \n",
       "110522     True\n",
       "110523     True\n",
       "110524     True\n",
       "110525     True\n",
       "110526     True\n",
       "Name: waiting_hour, Length: 110527, dtype: bool"
      ]
     },
     "execution_count": 239,
     "metadata": {},
     "output_type": "execute_result"
    }
   ],
   "source": [
    "# Filter out all rows rows with negative waiting hour values \n",
    "#  by extrating out column with positive waiting hour. \n",
    "df[\"waiting_hour\"] > 0\n"
   ]
  },
  {
   "cell_type": "code",
   "execution_count": 240,
   "id": "de79562e",
   "metadata": {},
   "outputs": [],
   "source": [
    "# Now take the dataframe with positive waiting hour values and replace the previous dataframe \n",
    "#  named df with the content by storing it in df.\n",
    " \n",
    "df = df[df[\"waiting_hour\"] > 0]\n"
   ]
  },
  {
   "cell_type": "code",
   "execution_count": 241,
   "id": "9d45240e",
   "metadata": {},
   "outputs": [
    {
     "data": {
      "text/html": [
       "<div>\n",
       "<style scoped>\n",
       "    .dataframe tbody tr th:only-of-type {\n",
       "        vertical-align: middle;\n",
       "    }\n",
       "\n",
       "    .dataframe tbody tr th {\n",
       "        vertical-align: top;\n",
       "    }\n",
       "\n",
       "    .dataframe thead th {\n",
       "        text-align: right;\n",
       "    }\n",
       "</style>\n",
       "<table border=\"1\" class=\"dataframe\">\n",
       "  <thead>\n",
       "    <tr style=\"text-align: right;\">\n",
       "      <th></th>\n",
       "      <th>PatientId</th>\n",
       "      <th>AppointmentID</th>\n",
       "      <th>Gender</th>\n",
       "      <th>ScheduledDay</th>\n",
       "      <th>AppointmentDay</th>\n",
       "      <th>waiting_time</th>\n",
       "      <th>waiting_hour</th>\n",
       "      <th>Age</th>\n",
       "      <th>Neighbourhood</th>\n",
       "      <th>Scholarship</th>\n",
       "      <th>Hipertension</th>\n",
       "      <th>Diabetes</th>\n",
       "      <th>Alcoholism</th>\n",
       "      <th>Handcap</th>\n",
       "      <th>SMS_received</th>\n",
       "      <th>No-show</th>\n",
       "    </tr>\n",
       "  </thead>\n",
       "  <tbody>\n",
       "    <tr>\n",
       "      <th>5</th>\n",
       "      <td>9.598513e+13</td>\n",
       "      <td>5626772</td>\n",
       "      <td>F</td>\n",
       "      <td>2016-04-27 08:36:51+00:00</td>\n",
       "      <td>2016-04-29 00:00:00+00:00</td>\n",
       "      <td>1 days 15:23:09</td>\n",
       "      <td>39.0</td>\n",
       "      <td>76</td>\n",
       "      <td>REPÚBLICA</td>\n",
       "      <td>0</td>\n",
       "      <td>1</td>\n",
       "      <td>0</td>\n",
       "      <td>0</td>\n",
       "      <td>0</td>\n",
       "      <td>0</td>\n",
       "      <td>No</td>\n",
       "    </tr>\n",
       "    <tr>\n",
       "      <th>6</th>\n",
       "      <td>7.336882e+14</td>\n",
       "      <td>5630279</td>\n",
       "      <td>F</td>\n",
       "      <td>2016-04-27 15:05:12+00:00</td>\n",
       "      <td>2016-04-29 00:00:00+00:00</td>\n",
       "      <td>1 days 08:54:48</td>\n",
       "      <td>32.0</td>\n",
       "      <td>23</td>\n",
       "      <td>GOIABEIRAS</td>\n",
       "      <td>0</td>\n",
       "      <td>0</td>\n",
       "      <td>0</td>\n",
       "      <td>0</td>\n",
       "      <td>0</td>\n",
       "      <td>0</td>\n",
       "      <td>Yes</td>\n",
       "    </tr>\n",
       "    <tr>\n",
       "      <th>7</th>\n",
       "      <td>3.449833e+12</td>\n",
       "      <td>5630575</td>\n",
       "      <td>F</td>\n",
       "      <td>2016-04-27 15:39:58+00:00</td>\n",
       "      <td>2016-04-29 00:00:00+00:00</td>\n",
       "      <td>1 days 08:20:02</td>\n",
       "      <td>32.0</td>\n",
       "      <td>39</td>\n",
       "      <td>GOIABEIRAS</td>\n",
       "      <td>0</td>\n",
       "      <td>0</td>\n",
       "      <td>0</td>\n",
       "      <td>0</td>\n",
       "      <td>0</td>\n",
       "      <td>0</td>\n",
       "      <td>Yes</td>\n",
       "    </tr>\n",
       "    <tr>\n",
       "      <th>9</th>\n",
       "      <td>7.812456e+13</td>\n",
       "      <td>5629123</td>\n",
       "      <td>F</td>\n",
       "      <td>2016-04-27 12:48:25+00:00</td>\n",
       "      <td>2016-04-29 00:00:00+00:00</td>\n",
       "      <td>1 days 11:11:35</td>\n",
       "      <td>35.0</td>\n",
       "      <td>19</td>\n",
       "      <td>CONQUISTA</td>\n",
       "      <td>0</td>\n",
       "      <td>0</td>\n",
       "      <td>0</td>\n",
       "      <td>0</td>\n",
       "      <td>0</td>\n",
       "      <td>0</td>\n",
       "      <td>No</td>\n",
       "    </tr>\n",
       "    <tr>\n",
       "      <th>10</th>\n",
       "      <td>7.345362e+14</td>\n",
       "      <td>5630213</td>\n",
       "      <td>F</td>\n",
       "      <td>2016-04-27 14:58:11+00:00</td>\n",
       "      <td>2016-04-29 00:00:00+00:00</td>\n",
       "      <td>1 days 09:01:49</td>\n",
       "      <td>33.0</td>\n",
       "      <td>30</td>\n",
       "      <td>NOVA PALESTINA</td>\n",
       "      <td>0</td>\n",
       "      <td>0</td>\n",
       "      <td>0</td>\n",
       "      <td>0</td>\n",
       "      <td>0</td>\n",
       "      <td>0</td>\n",
       "      <td>No</td>\n",
       "    </tr>\n",
       "  </tbody>\n",
       "</table>\n",
       "</div>"
      ],
      "text/plain": [
       "       PatientId  AppointmentID Gender              ScheduledDay  \\\n",
       "5   9.598513e+13        5626772      F 2016-04-27 08:36:51+00:00   \n",
       "6   7.336882e+14        5630279      F 2016-04-27 15:05:12+00:00   \n",
       "7   3.449833e+12        5630575      F 2016-04-27 15:39:58+00:00   \n",
       "9   7.812456e+13        5629123      F 2016-04-27 12:48:25+00:00   \n",
       "10  7.345362e+14        5630213      F 2016-04-27 14:58:11+00:00   \n",
       "\n",
       "              AppointmentDay    waiting_time  waiting_hour  Age  \\\n",
       "5  2016-04-29 00:00:00+00:00 1 days 15:23:09          39.0   76   \n",
       "6  2016-04-29 00:00:00+00:00 1 days 08:54:48          32.0   23   \n",
       "7  2016-04-29 00:00:00+00:00 1 days 08:20:02          32.0   39   \n",
       "9  2016-04-29 00:00:00+00:00 1 days 11:11:35          35.0   19   \n",
       "10 2016-04-29 00:00:00+00:00 1 days 09:01:49          33.0   30   \n",
       "\n",
       "     Neighbourhood  Scholarship  Hipertension  Diabetes  Alcoholism  Handcap  \\\n",
       "5        REPÚBLICA            0             1         0           0        0   \n",
       "6       GOIABEIRAS            0             0         0           0        0   \n",
       "7       GOIABEIRAS            0             0         0           0        0   \n",
       "9        CONQUISTA            0             0         0           0        0   \n",
       "10  NOVA PALESTINA            0             0         0           0        0   \n",
       "\n",
       "    SMS_received No-show  \n",
       "5              0      No  \n",
       "6              0     Yes  \n",
       "7              0     Yes  \n",
       "9              0      No  \n",
       "10             0      No  "
      ]
     },
     "execution_count": 241,
     "metadata": {},
     "output_type": "execute_result"
    }
   ],
   "source": [
    "# Take a look at the first five rows of the new dataframe.\n",
    "df.head()"
   ]
  },
  {
   "cell_type": "code",
   "execution_count": 242,
   "id": "d97e2e3a",
   "metadata": {
    "scrolled": true
   },
   "outputs": [
    {
     "name": "stdout",
     "output_type": "stream",
     "text": [
      "<class 'pandas.core.frame.DataFrame'>\n",
      "Int64Index: 71959 entries, 5 to 110526\n",
      "Data columns (total 16 columns):\n",
      " #   Column          Non-Null Count  Dtype              \n",
      "---  ------          --------------  -----              \n",
      " 0   PatientId       71959 non-null  float64            \n",
      " 1   AppointmentID   71959 non-null  int64              \n",
      " 2   Gender          71959 non-null  object             \n",
      " 3   ScheduledDay    71959 non-null  datetime64[ns, UTC]\n",
      " 4   AppointmentDay  71959 non-null  datetime64[ns, UTC]\n",
      " 5   waiting_time    71959 non-null  timedelta64[ns]    \n",
      " 6   waiting_hour    71959 non-null  float64            \n",
      " 7   Age             71959 non-null  int64              \n",
      " 8   Neighbourhood   71959 non-null  object             \n",
      " 9   Scholarship     71959 non-null  int64              \n",
      " 10  Hipertension    71959 non-null  int64              \n",
      " 11  Diabetes        71959 non-null  int64              \n",
      " 12  Alcoholism      71959 non-null  int64              \n",
      " 13  Handcap         71959 non-null  int64              \n",
      " 14  SMS_received    71959 non-null  int64              \n",
      " 15  No-show         71959 non-null  object             \n",
      "dtypes: datetime64[ns, UTC](2), float64(2), int64(8), object(3), timedelta64[ns](1)\n",
      "memory usage: 9.3+ MB\n"
     ]
    }
   ],
   "source": [
    "# Check information to confirm update.\n",
    "df.info()"
   ]
  },
  {
   "cell_type": "markdown",
   "id": "f56c38c9",
   "metadata": {
    "collapsed": true
   },
   "source": [
    " ### Note:\n",
    " \n",
    " ### Fix No-show \n",
    " \n",
    " Having solved the issues with the datetime columns and waiting_hour column, \n",
    " I will move to the No-show column.\n",
    " \n",
    " "
   ]
  },
  {
   "cell_type": "markdown",
   "id": "e88e897c",
   "metadata": {},
   "source": [
    "#### Note:\n",
    "\n",
    "In the next set of codes, I will reverse the order of the No-show column.\n",
    "Since \"No\" means the patient showed up and \"Yes\" means the patient didn't show up according to the dataset description. \n",
    "I will change all the values of \"No\" to 1 and all the values of \"Yes\" to 0 to make my analysis easier.\n",
    "\n",
    "Simply put, \n",
    "1 will mean The patient showed up for their appointments.\n",
    "0 will mean the patient didn't show up.\n",
    "\n",
    "I will later rename the No-show column to show_up for easy description."
   ]
  },
  {
   "cell_type": "code",
   "execution_count": 243,
   "id": "930014f7",
   "metadata": {},
   "outputs": [
    {
     "data": {
      "text/plain": [
       "No     51437\n",
       "Yes    20522\n",
       "Name: No-show, dtype: int64"
      ]
     },
     "execution_count": 243,
     "metadata": {},
     "output_type": "execute_result"
    }
   ],
   "source": [
    "# Check the number of unique values in the No-show column before replacing the contents to 1 and 0\n",
    "df[\"No-show\"].value_counts()"
   ]
  },
  {
   "cell_type": "code",
   "execution_count": 244,
   "id": "2c41fa80",
   "metadata": {},
   "outputs": [],
   "source": [
    "# Replace all No to 1 and all Yes to 0\n",
    "\n",
    "df.replace({\"No-show\": {\"No\": 1, \"Yes\":0}}, inplace=True)"
   ]
  },
  {
   "cell_type": "code",
   "execution_count": 245,
   "id": "3f7447f3",
   "metadata": {
    "scrolled": true
   },
   "outputs": [
    {
     "data": {
      "text/html": [
       "<div>\n",
       "<style scoped>\n",
       "    .dataframe tbody tr th:only-of-type {\n",
       "        vertical-align: middle;\n",
       "    }\n",
       "\n",
       "    .dataframe tbody tr th {\n",
       "        vertical-align: top;\n",
       "    }\n",
       "\n",
       "    .dataframe thead th {\n",
       "        text-align: right;\n",
       "    }\n",
       "</style>\n",
       "<table border=\"1\" class=\"dataframe\">\n",
       "  <thead>\n",
       "    <tr style=\"text-align: right;\">\n",
       "      <th></th>\n",
       "      <th>PatientId</th>\n",
       "      <th>AppointmentID</th>\n",
       "      <th>Gender</th>\n",
       "      <th>ScheduledDay</th>\n",
       "      <th>AppointmentDay</th>\n",
       "      <th>waiting_time</th>\n",
       "      <th>waiting_hour</th>\n",
       "      <th>Age</th>\n",
       "      <th>Neighbourhood</th>\n",
       "      <th>Scholarship</th>\n",
       "      <th>Hipertension</th>\n",
       "      <th>Diabetes</th>\n",
       "      <th>Alcoholism</th>\n",
       "      <th>Handcap</th>\n",
       "      <th>SMS_received</th>\n",
       "      <th>No-show</th>\n",
       "    </tr>\n",
       "  </thead>\n",
       "  <tbody>\n",
       "    <tr>\n",
       "      <th>5</th>\n",
       "      <td>9.598513e+13</td>\n",
       "      <td>5626772</td>\n",
       "      <td>F</td>\n",
       "      <td>2016-04-27 08:36:51+00:00</td>\n",
       "      <td>2016-04-29 00:00:00+00:00</td>\n",
       "      <td>1 days 15:23:09</td>\n",
       "      <td>39.0</td>\n",
       "      <td>76</td>\n",
       "      <td>REPÚBLICA</td>\n",
       "      <td>0</td>\n",
       "      <td>1</td>\n",
       "      <td>0</td>\n",
       "      <td>0</td>\n",
       "      <td>0</td>\n",
       "      <td>0</td>\n",
       "      <td>1</td>\n",
       "    </tr>\n",
       "    <tr>\n",
       "      <th>6</th>\n",
       "      <td>7.336882e+14</td>\n",
       "      <td>5630279</td>\n",
       "      <td>F</td>\n",
       "      <td>2016-04-27 15:05:12+00:00</td>\n",
       "      <td>2016-04-29 00:00:00+00:00</td>\n",
       "      <td>1 days 08:54:48</td>\n",
       "      <td>32.0</td>\n",
       "      <td>23</td>\n",
       "      <td>GOIABEIRAS</td>\n",
       "      <td>0</td>\n",
       "      <td>0</td>\n",
       "      <td>0</td>\n",
       "      <td>0</td>\n",
       "      <td>0</td>\n",
       "      <td>0</td>\n",
       "      <td>0</td>\n",
       "    </tr>\n",
       "    <tr>\n",
       "      <th>7</th>\n",
       "      <td>3.449833e+12</td>\n",
       "      <td>5630575</td>\n",
       "      <td>F</td>\n",
       "      <td>2016-04-27 15:39:58+00:00</td>\n",
       "      <td>2016-04-29 00:00:00+00:00</td>\n",
       "      <td>1 days 08:20:02</td>\n",
       "      <td>32.0</td>\n",
       "      <td>39</td>\n",
       "      <td>GOIABEIRAS</td>\n",
       "      <td>0</td>\n",
       "      <td>0</td>\n",
       "      <td>0</td>\n",
       "      <td>0</td>\n",
       "      <td>0</td>\n",
       "      <td>0</td>\n",
       "      <td>0</td>\n",
       "    </tr>\n",
       "    <tr>\n",
       "      <th>9</th>\n",
       "      <td>7.812456e+13</td>\n",
       "      <td>5629123</td>\n",
       "      <td>F</td>\n",
       "      <td>2016-04-27 12:48:25+00:00</td>\n",
       "      <td>2016-04-29 00:00:00+00:00</td>\n",
       "      <td>1 days 11:11:35</td>\n",
       "      <td>35.0</td>\n",
       "      <td>19</td>\n",
       "      <td>CONQUISTA</td>\n",
       "      <td>0</td>\n",
       "      <td>0</td>\n",
       "      <td>0</td>\n",
       "      <td>0</td>\n",
       "      <td>0</td>\n",
       "      <td>0</td>\n",
       "      <td>1</td>\n",
       "    </tr>\n",
       "    <tr>\n",
       "      <th>10</th>\n",
       "      <td>7.345362e+14</td>\n",
       "      <td>5630213</td>\n",
       "      <td>F</td>\n",
       "      <td>2016-04-27 14:58:11+00:00</td>\n",
       "      <td>2016-04-29 00:00:00+00:00</td>\n",
       "      <td>1 days 09:01:49</td>\n",
       "      <td>33.0</td>\n",
       "      <td>30</td>\n",
       "      <td>NOVA PALESTINA</td>\n",
       "      <td>0</td>\n",
       "      <td>0</td>\n",
       "      <td>0</td>\n",
       "      <td>0</td>\n",
       "      <td>0</td>\n",
       "      <td>0</td>\n",
       "      <td>1</td>\n",
       "    </tr>\n",
       "  </tbody>\n",
       "</table>\n",
       "</div>"
      ],
      "text/plain": [
       "       PatientId  AppointmentID Gender              ScheduledDay  \\\n",
       "5   9.598513e+13        5626772      F 2016-04-27 08:36:51+00:00   \n",
       "6   7.336882e+14        5630279      F 2016-04-27 15:05:12+00:00   \n",
       "7   3.449833e+12        5630575      F 2016-04-27 15:39:58+00:00   \n",
       "9   7.812456e+13        5629123      F 2016-04-27 12:48:25+00:00   \n",
       "10  7.345362e+14        5630213      F 2016-04-27 14:58:11+00:00   \n",
       "\n",
       "              AppointmentDay    waiting_time  waiting_hour  Age  \\\n",
       "5  2016-04-29 00:00:00+00:00 1 days 15:23:09          39.0   76   \n",
       "6  2016-04-29 00:00:00+00:00 1 days 08:54:48          32.0   23   \n",
       "7  2016-04-29 00:00:00+00:00 1 days 08:20:02          32.0   39   \n",
       "9  2016-04-29 00:00:00+00:00 1 days 11:11:35          35.0   19   \n",
       "10 2016-04-29 00:00:00+00:00 1 days 09:01:49          33.0   30   \n",
       "\n",
       "     Neighbourhood  Scholarship  Hipertension  Diabetes  Alcoholism  Handcap  \\\n",
       "5        REPÚBLICA            0             1         0           0        0   \n",
       "6       GOIABEIRAS            0             0         0           0        0   \n",
       "7       GOIABEIRAS            0             0         0           0        0   \n",
       "9        CONQUISTA            0             0         0           0        0   \n",
       "10  NOVA PALESTINA            0             0         0           0        0   \n",
       "\n",
       "    SMS_received  No-show  \n",
       "5              0        1  \n",
       "6              0        0  \n",
       "7              0        0  \n",
       "9              0        1  \n",
       "10             0        1  "
      ]
     },
     "execution_count": 245,
     "metadata": {},
     "output_type": "execute_result"
    }
   ],
   "source": [
    "# Print the first five rows to see the new update on No-show column\n",
    "df.head()"
   ]
  },
  {
   "cell_type": "code",
   "execution_count": 246,
   "id": "1b2b730f",
   "metadata": {},
   "outputs": [
    {
     "data": {
      "text/plain": [
       "1    51437\n",
       "0    20522\n",
       "Name: No-show, dtype: int64"
      ]
     },
     "execution_count": 246,
     "metadata": {},
     "output_type": "execute_result"
    }
   ],
   "source": [
    "#Check unique value again to confirm the unique values of 1 and 0 are equal to the unique value of No and Yes\n",
    "df[\"No-show\"].value_counts()"
   ]
  },
  {
   "cell_type": "markdown",
   "id": "7aeffeba",
   "metadata": {},
   "source": [
    "### Note:\n",
    "\n",
    "#### Check the columns with binary data for inconsistencies.\n",
    "\n",
    "\n",
    "From the previous result, I can see that the unique values of 1 and 0 are equal to the unique values of \"No\" and \"Yes\" respectively.\n",
    "In the next sets of codes, I'll be checking the columns that contain binary data for any incorrect data to be cleaned.\n",
    "A binary data is a data whose value is either 0 or 1.\n",
    "\n",
    "Columns with binary data in this dataframe according to the dataset descriptions include : Scholarship, hypertension, Diabetes, Alcoholism, handicap, SMS_received and No-show.\n",
    "\n",
    "Confirm if all the binary columns contain either 1 or 0 only by checking the unique values of each column.\n",
    "I will drop all the rows with values other than 0 and 1\n"
   ]
  },
  {
   "cell_type": "code",
   "execution_count": 247,
   "id": "c849304a",
   "metadata": {},
   "outputs": [
    {
     "data": {
      "text/plain": [
       "0    65288\n",
       "1     6671\n",
       "Name: Scholarship, dtype: int64"
      ]
     },
     "execution_count": 247,
     "metadata": {},
     "output_type": "execute_result"
    }
   ],
   "source": [
    "# Check unique values of free_health_care column\n",
    "df[\"Scholarship\"].value_counts()"
   ]
  },
  {
   "cell_type": "code",
   "execution_count": 248,
   "id": "38c32ec0",
   "metadata": {},
   "outputs": [
    {
     "data": {
      "text/plain": [
       "0    56927\n",
       "1    15032\n",
       "Name: Hipertension, dtype: int64"
      ]
     },
     "execution_count": 248,
     "metadata": {},
     "output_type": "execute_result"
    }
   ],
   "source": [
    "# Check unique values of hypertension column\n",
    "df[\"Hipertension\"].value_counts()"
   ]
  },
  {
   "cell_type": "code",
   "execution_count": 249,
   "id": "701f9958",
   "metadata": {},
   "outputs": [
    {
     "data": {
      "text/plain": [
       "0    66582\n",
       "1     5377\n",
       "Name: Diabetes, dtype: int64"
      ]
     },
     "execution_count": 249,
     "metadata": {},
     "output_type": "execute_result"
    }
   ],
   "source": [
    "# Check unique values of Diabetes column\n",
    "df[\"Diabetes\"].value_counts()"
   ]
  },
  {
   "cell_type": "code",
   "execution_count": 250,
   "id": "27380287",
   "metadata": {},
   "outputs": [
    {
     "data": {
      "text/plain": [
       "0    70137\n",
       "1     1822\n",
       "Name: Alcoholism, dtype: int64"
      ]
     },
     "execution_count": 250,
     "metadata": {},
     "output_type": "execute_result"
    }
   ],
   "source": [
    "# Check unique values of Alcoholism column\n",
    "df[\"Alcoholism\"].value_counts()"
   ]
  },
  {
   "cell_type": "code",
   "execution_count": 251,
   "id": "b1ce7d76",
   "metadata": {},
   "outputs": [
    {
     "data": {
      "text/plain": [
       "0    36477\n",
       "1    35482\n",
       "Name: SMS_received, dtype: int64"
      ]
     },
     "execution_count": 251,
     "metadata": {},
     "output_type": "execute_result"
    }
   ],
   "source": [
    "# Check unique values of SMS_received column\n",
    "df[\"SMS_received\"].value_counts()"
   ]
  },
  {
   "cell_type": "code",
   "execution_count": 252,
   "id": "3575b9b5",
   "metadata": {
    "scrolled": true
   },
   "outputs": [
    {
     "data": {
      "text/plain": [
       "1    51437\n",
       "0    20522\n",
       "Name: No-show, dtype: int64"
      ]
     },
     "execution_count": 252,
     "metadata": {},
     "output_type": "execute_result"
    }
   ],
   "source": [
    "# Check unique value of No-show column\n",
    "df[\"No-show\"].value_counts()\n",
    "\n",
    "# No surprise, I replace all the values of \"No\" to 1 and all the values of \"Yes\" to 0 earlier on and\n",
    "#  also checked the unique values previously."
   ]
  },
  {
   "cell_type": "code",
   "execution_count": 253,
   "id": "de02ed71",
   "metadata": {},
   "outputs": [
    {
     "data": {
      "text/plain": [
       "0    70652\n",
       "1     1185\n",
       "2      112\n",
       "3        8\n",
       "4        2\n",
       "Name: Handcap, dtype: int64"
      ]
     },
     "execution_count": 253,
     "metadata": {},
     "output_type": "execute_result"
    }
   ],
   "source": [
    "#Check unique value of handicap column\n",
    "df[\"Handcap\"].value_counts()\n"
   ]
  },
  {
   "cell_type": "markdown",
   "id": "d71afddf",
   "metadata": {},
   "source": [
    "### Note:\n",
    "\n",
    "After checking the unique values of handicap column. I can see there is a problem with the data. It should only contain 0 and 1 but it also contains 2, 3 and 4.\n",
    "I assume this is an error. The column should only contain 0 and 1 since it's described as a binary data in the dataset description.\n",
    "\n",
    "In the next two cells, I will perform operations to drop all rows that contains non-binary data, 2, 3 and 4."
   ]
  },
  {
   "cell_type": "code",
   "execution_count": 254,
   "id": "3b424ffc",
   "metadata": {
    "scrolled": true
   },
   "outputs": [
    {
     "data": {
      "text/plain": [
       "5         True\n",
       "6         True\n",
       "7         True\n",
       "9         True\n",
       "10        True\n",
       "          ... \n",
       "110522    True\n",
       "110523    True\n",
       "110524    True\n",
       "110525    True\n",
       "110526    True\n",
       "Name: Handcap, Length: 71959, dtype: bool"
      ]
     },
     "execution_count": 254,
     "metadata": {},
     "output_type": "execute_result"
    }
   ],
   "source": [
    "#Check the rows that contains either one and zero\n",
    "(df[\"Handcap\"] == 1) | (df[\"Handcap\"] == 0)"
   ]
  },
  {
   "cell_type": "code",
   "execution_count": 255,
   "id": "7f1e39d8",
   "metadata": {},
   "outputs": [
    {
     "data": {
      "text/html": [
       "<div>\n",
       "<style scoped>\n",
       "    .dataframe tbody tr th:only-of-type {\n",
       "        vertical-align: middle;\n",
       "    }\n",
       "\n",
       "    .dataframe tbody tr th {\n",
       "        vertical-align: top;\n",
       "    }\n",
       "\n",
       "    .dataframe thead th {\n",
       "        text-align: right;\n",
       "    }\n",
       "</style>\n",
       "<table border=\"1\" class=\"dataframe\">\n",
       "  <thead>\n",
       "    <tr style=\"text-align: right;\">\n",
       "      <th></th>\n",
       "      <th>PatientId</th>\n",
       "      <th>AppointmentID</th>\n",
       "      <th>Gender</th>\n",
       "      <th>ScheduledDay</th>\n",
       "      <th>AppointmentDay</th>\n",
       "      <th>waiting_time</th>\n",
       "      <th>waiting_hour</th>\n",
       "      <th>Age</th>\n",
       "      <th>Neighbourhood</th>\n",
       "      <th>Scholarship</th>\n",
       "      <th>Hipertension</th>\n",
       "      <th>Diabetes</th>\n",
       "      <th>Alcoholism</th>\n",
       "      <th>Handcap</th>\n",
       "      <th>SMS_received</th>\n",
       "      <th>No-show</th>\n",
       "    </tr>\n",
       "  </thead>\n",
       "  <tbody>\n",
       "    <tr>\n",
       "      <th>5</th>\n",
       "      <td>9.598513e+13</td>\n",
       "      <td>5626772</td>\n",
       "      <td>F</td>\n",
       "      <td>2016-04-27 08:36:51+00:00</td>\n",
       "      <td>2016-04-29 00:00:00+00:00</td>\n",
       "      <td>1 days 15:23:09</td>\n",
       "      <td>39.0</td>\n",
       "      <td>76</td>\n",
       "      <td>REPÚBLICA</td>\n",
       "      <td>0</td>\n",
       "      <td>1</td>\n",
       "      <td>0</td>\n",
       "      <td>0</td>\n",
       "      <td>0</td>\n",
       "      <td>0</td>\n",
       "      <td>1</td>\n",
       "    </tr>\n",
       "    <tr>\n",
       "      <th>6</th>\n",
       "      <td>7.336882e+14</td>\n",
       "      <td>5630279</td>\n",
       "      <td>F</td>\n",
       "      <td>2016-04-27 15:05:12+00:00</td>\n",
       "      <td>2016-04-29 00:00:00+00:00</td>\n",
       "      <td>1 days 08:54:48</td>\n",
       "      <td>32.0</td>\n",
       "      <td>23</td>\n",
       "      <td>GOIABEIRAS</td>\n",
       "      <td>0</td>\n",
       "      <td>0</td>\n",
       "      <td>0</td>\n",
       "      <td>0</td>\n",
       "      <td>0</td>\n",
       "      <td>0</td>\n",
       "      <td>0</td>\n",
       "    </tr>\n",
       "    <tr>\n",
       "      <th>7</th>\n",
       "      <td>3.449833e+12</td>\n",
       "      <td>5630575</td>\n",
       "      <td>F</td>\n",
       "      <td>2016-04-27 15:39:58+00:00</td>\n",
       "      <td>2016-04-29 00:00:00+00:00</td>\n",
       "      <td>1 days 08:20:02</td>\n",
       "      <td>32.0</td>\n",
       "      <td>39</td>\n",
       "      <td>GOIABEIRAS</td>\n",
       "      <td>0</td>\n",
       "      <td>0</td>\n",
       "      <td>0</td>\n",
       "      <td>0</td>\n",
       "      <td>0</td>\n",
       "      <td>0</td>\n",
       "      <td>0</td>\n",
       "    </tr>\n",
       "    <tr>\n",
       "      <th>9</th>\n",
       "      <td>7.812456e+13</td>\n",
       "      <td>5629123</td>\n",
       "      <td>F</td>\n",
       "      <td>2016-04-27 12:48:25+00:00</td>\n",
       "      <td>2016-04-29 00:00:00+00:00</td>\n",
       "      <td>1 days 11:11:35</td>\n",
       "      <td>35.0</td>\n",
       "      <td>19</td>\n",
       "      <td>CONQUISTA</td>\n",
       "      <td>0</td>\n",
       "      <td>0</td>\n",
       "      <td>0</td>\n",
       "      <td>0</td>\n",
       "      <td>0</td>\n",
       "      <td>0</td>\n",
       "      <td>1</td>\n",
       "    </tr>\n",
       "    <tr>\n",
       "      <th>10</th>\n",
       "      <td>7.345362e+14</td>\n",
       "      <td>5630213</td>\n",
       "      <td>F</td>\n",
       "      <td>2016-04-27 14:58:11+00:00</td>\n",
       "      <td>2016-04-29 00:00:00+00:00</td>\n",
       "      <td>1 days 09:01:49</td>\n",
       "      <td>33.0</td>\n",
       "      <td>30</td>\n",
       "      <td>NOVA PALESTINA</td>\n",
       "      <td>0</td>\n",
       "      <td>0</td>\n",
       "      <td>0</td>\n",
       "      <td>0</td>\n",
       "      <td>0</td>\n",
       "      <td>0</td>\n",
       "      <td>1</td>\n",
       "    </tr>\n",
       "  </tbody>\n",
       "</table>\n",
       "</div>"
      ],
      "text/plain": [
       "       PatientId  AppointmentID Gender              ScheduledDay  \\\n",
       "5   9.598513e+13        5626772      F 2016-04-27 08:36:51+00:00   \n",
       "6   7.336882e+14        5630279      F 2016-04-27 15:05:12+00:00   \n",
       "7   3.449833e+12        5630575      F 2016-04-27 15:39:58+00:00   \n",
       "9   7.812456e+13        5629123      F 2016-04-27 12:48:25+00:00   \n",
       "10  7.345362e+14        5630213      F 2016-04-27 14:58:11+00:00   \n",
       "\n",
       "              AppointmentDay    waiting_time  waiting_hour  Age  \\\n",
       "5  2016-04-29 00:00:00+00:00 1 days 15:23:09          39.0   76   \n",
       "6  2016-04-29 00:00:00+00:00 1 days 08:54:48          32.0   23   \n",
       "7  2016-04-29 00:00:00+00:00 1 days 08:20:02          32.0   39   \n",
       "9  2016-04-29 00:00:00+00:00 1 days 11:11:35          35.0   19   \n",
       "10 2016-04-29 00:00:00+00:00 1 days 09:01:49          33.0   30   \n",
       "\n",
       "     Neighbourhood  Scholarship  Hipertension  Diabetes  Alcoholism  Handcap  \\\n",
       "5        REPÚBLICA            0             1         0           0        0   \n",
       "6       GOIABEIRAS            0             0         0           0        0   \n",
       "7       GOIABEIRAS            0             0         0           0        0   \n",
       "9        CONQUISTA            0             0         0           0        0   \n",
       "10  NOVA PALESTINA            0             0         0           0        0   \n",
       "\n",
       "    SMS_received  No-show  \n",
       "5              0        1  \n",
       "6              0        0  \n",
       "7              0        0  \n",
       "9              0        1  \n",
       "10             0        1  "
      ]
     },
     "execution_count": 255,
     "metadata": {},
     "output_type": "execute_result"
    }
   ],
   "source": [
    "#Drop the rows with wrong values by extracting out the rows with 0 and 1\n",
    "df = df[(df[\"Handcap\"] == 1) | (df[\"Handcap\"] == 0)]\n",
    "df.head()"
   ]
  },
  {
   "cell_type": "code",
   "execution_count": 256,
   "id": "d6c12e39",
   "metadata": {},
   "outputs": [
    {
     "data": {
      "text/plain": [
       "0    70652\n",
       "1     1185\n",
       "Name: Handcap, dtype: int64"
      ]
     },
     "execution_count": 256,
     "metadata": {},
     "output_type": "execute_result"
    }
   ],
   "source": [
    "# check the unique values of handicap column to confirm if the column has been updated\n",
    "df[\"Handcap\"].value_counts()"
   ]
  },
  {
   "cell_type": "markdown",
   "id": "0e084a68",
   "metadata": {},
   "source": [
    "### Note:\n",
    "\n",
    "Now that the issue with the column with the binary data has been fixed.\n",
    "Next, I will use the describe() function to see if there is other problem with the numeric data."
   ]
  },
  {
   "cell_type": "code",
   "execution_count": 257,
   "id": "5d7d9718",
   "metadata": {
    "scrolled": true
   },
   "outputs": [
    {
     "data": {
      "text/html": [
       "<div>\n",
       "<style scoped>\n",
       "    .dataframe tbody tr th:only-of-type {\n",
       "        vertical-align: middle;\n",
       "    }\n",
       "\n",
       "    .dataframe tbody tr th {\n",
       "        vertical-align: top;\n",
       "    }\n",
       "\n",
       "    .dataframe thead th {\n",
       "        text-align: right;\n",
       "    }\n",
       "</style>\n",
       "<table border=\"1\" class=\"dataframe\">\n",
       "  <thead>\n",
       "    <tr style=\"text-align: right;\">\n",
       "      <th></th>\n",
       "      <th>PatientId</th>\n",
       "      <th>AppointmentID</th>\n",
       "      <th>waiting_time</th>\n",
       "      <th>waiting_hour</th>\n",
       "      <th>Age</th>\n",
       "      <th>Scholarship</th>\n",
       "      <th>Hipertension</th>\n",
       "      <th>Diabetes</th>\n",
       "      <th>Alcoholism</th>\n",
       "      <th>Handcap</th>\n",
       "      <th>SMS_received</th>\n",
       "      <th>No-show</th>\n",
       "    </tr>\n",
       "  </thead>\n",
       "  <tbody>\n",
       "    <tr>\n",
       "      <th>count</th>\n",
       "      <td>7.183700e+04</td>\n",
       "      <td>7.183700e+04</td>\n",
       "      <td>71837</td>\n",
       "      <td>71837.000000</td>\n",
       "      <td>71837.000000</td>\n",
       "      <td>71837.000000</td>\n",
       "      <td>71837.000000</td>\n",
       "      <td>71837.000000</td>\n",
       "      <td>71837.000000</td>\n",
       "      <td>71837.000000</td>\n",
       "      <td>71837.000000</td>\n",
       "      <td>71837.000000</td>\n",
       "    </tr>\n",
       "    <tr>\n",
       "      <th>mean</th>\n",
       "      <td>1.452638e+14</td>\n",
       "      <td>5.655035e+06</td>\n",
       "      <td>15 days 03:54:46.714979745</td>\n",
       "      <td>363.409789</td>\n",
       "      <td>38.486504</td>\n",
       "      <td>0.092766</td>\n",
       "      <td>0.208486</td>\n",
       "      <td>0.074446</td>\n",
       "      <td>0.025266</td>\n",
       "      <td>0.016496</td>\n",
       "      <td>0.493269</td>\n",
       "      <td>0.714841</td>\n",
       "    </tr>\n",
       "    <tr>\n",
       "      <th>std</th>\n",
       "      <td>2.535796e+14</td>\n",
       "      <td>7.472260e+04</td>\n",
       "      <td>16 days 11:49:50.686647680</td>\n",
       "      <td>395.833126</td>\n",
       "      <td>22.916152</td>\n",
       "      <td>0.290106</td>\n",
       "      <td>0.406229</td>\n",
       "      <td>0.262498</td>\n",
       "      <td>0.156932</td>\n",
       "      <td>0.127373</td>\n",
       "      <td>0.499958</td>\n",
       "      <td>0.451493</td>\n",
       "    </tr>\n",
       "    <tr>\n",
       "      <th>min</th>\n",
       "      <td>3.921784e+04</td>\n",
       "      <td>5.030230e+06</td>\n",
       "      <td>0 days 03:16:20</td>\n",
       "      <td>3.000000</td>\n",
       "      <td>0.000000</td>\n",
       "      <td>0.000000</td>\n",
       "      <td>0.000000</td>\n",
       "      <td>0.000000</td>\n",
       "      <td>0.000000</td>\n",
       "      <td>0.000000</td>\n",
       "      <td>0.000000</td>\n",
       "      <td>0.000000</td>\n",
       "    </tr>\n",
       "    <tr>\n",
       "      <th>25%</th>\n",
       "      <td>3.967343e+12</td>\n",
       "      <td>5.617795e+06</td>\n",
       "      <td>3 days 15:15:05</td>\n",
       "      <td>87.000000</td>\n",
       "      <td>19.000000</td>\n",
       "      <td>0.000000</td>\n",
       "      <td>0.000000</td>\n",
       "      <td>0.000000</td>\n",
       "      <td>0.000000</td>\n",
       "      <td>0.000000</td>\n",
       "      <td>0.000000</td>\n",
       "      <td>0.000000</td>\n",
       "    </tr>\n",
       "    <tr>\n",
       "      <th>50%</th>\n",
       "      <td>2.988478e+13</td>\n",
       "      <td>5.661163e+06</td>\n",
       "      <td>8 days 16:26:21</td>\n",
       "      <td>208.000000</td>\n",
       "      <td>39.000000</td>\n",
       "      <td>0.000000</td>\n",
       "      <td>0.000000</td>\n",
       "      <td>0.000000</td>\n",
       "      <td>0.000000</td>\n",
       "      <td>0.000000</td>\n",
       "      <td>0.000000</td>\n",
       "      <td>1.000000</td>\n",
       "    </tr>\n",
       "    <tr>\n",
       "      <th>75%</th>\n",
       "      <td>9.372188e+13</td>\n",
       "      <td>5.707166e+06</td>\n",
       "      <td>21 days 15:04:47</td>\n",
       "      <td>519.000000</td>\n",
       "      <td>57.000000</td>\n",
       "      <td>0.000000</td>\n",
       "      <td>0.000000</td>\n",
       "      <td>0.000000</td>\n",
       "      <td>0.000000</td>\n",
       "      <td>0.000000</td>\n",
       "      <td>1.000000</td>\n",
       "      <td>1.000000</td>\n",
       "    </tr>\n",
       "    <tr>\n",
       "      <th>max</th>\n",
       "      <td>9.999320e+14</td>\n",
       "      <td>5.784985e+06</td>\n",
       "      <td>178 days 13:19:01</td>\n",
       "      <td>4285.000000</td>\n",
       "      <td>115.000000</td>\n",
       "      <td>1.000000</td>\n",
       "      <td>1.000000</td>\n",
       "      <td>1.000000</td>\n",
       "      <td>1.000000</td>\n",
       "      <td>1.000000</td>\n",
       "      <td>1.000000</td>\n",
       "      <td>1.000000</td>\n",
       "    </tr>\n",
       "  </tbody>\n",
       "</table>\n",
       "</div>"
      ],
      "text/plain": [
       "          PatientId  AppointmentID                waiting_time  waiting_hour  \\\n",
       "count  7.183700e+04   7.183700e+04                       71837  71837.000000   \n",
       "mean   1.452638e+14   5.655035e+06  15 days 03:54:46.714979745    363.409789   \n",
       "std    2.535796e+14   7.472260e+04  16 days 11:49:50.686647680    395.833126   \n",
       "min    3.921784e+04   5.030230e+06             0 days 03:16:20      3.000000   \n",
       "25%    3.967343e+12   5.617795e+06             3 days 15:15:05     87.000000   \n",
       "50%    2.988478e+13   5.661163e+06             8 days 16:26:21    208.000000   \n",
       "75%    9.372188e+13   5.707166e+06            21 days 15:04:47    519.000000   \n",
       "max    9.999320e+14   5.784985e+06           178 days 13:19:01   4285.000000   \n",
       "\n",
       "                Age   Scholarship  Hipertension      Diabetes    Alcoholism  \\\n",
       "count  71837.000000  71837.000000  71837.000000  71837.000000  71837.000000   \n",
       "mean      38.486504      0.092766      0.208486      0.074446      0.025266   \n",
       "std       22.916152      0.290106      0.406229      0.262498      0.156932   \n",
       "min        0.000000      0.000000      0.000000      0.000000      0.000000   \n",
       "25%       19.000000      0.000000      0.000000      0.000000      0.000000   \n",
       "50%       39.000000      0.000000      0.000000      0.000000      0.000000   \n",
       "75%       57.000000      0.000000      0.000000      0.000000      0.000000   \n",
       "max      115.000000      1.000000      1.000000      1.000000      1.000000   \n",
       "\n",
       "            Handcap  SMS_received       No-show  \n",
       "count  71837.000000  71837.000000  71837.000000  \n",
       "mean       0.016496      0.493269      0.714841  \n",
       "std        0.127373      0.499958      0.451493  \n",
       "min        0.000000      0.000000      0.000000  \n",
       "25%        0.000000      0.000000      0.000000  \n",
       "50%        0.000000      0.000000      1.000000  \n",
       "75%        0.000000      1.000000      1.000000  \n",
       "max        1.000000      1.000000      1.000000  "
      ]
     },
     "execution_count": 257,
     "metadata": {},
     "output_type": "execute_result"
    }
   ],
   "source": [
    "# Use describe function to check if there is any other issues with the numeric data\n",
    "df.describe()"
   ]
  },
  {
   "cell_type": "markdown",
   "id": "e1212fa0",
   "metadata": {},
   "source": [
    "### Note:\n",
    "I can see that the age column contain 0 value.\n",
    "Can this be an error?\n",
    "\n",
    "Or, can 0 be the age for under-one year old kids.\n",
    "\n",
    "I will check the number of times 0 appears in the age column."
   ]
  },
  {
   "cell_type": "code",
   "execution_count": 258,
   "id": "50065d16",
   "metadata": {
    "scrolled": true
   },
   "outputs": [
    {
     "data": {
      "text/plain": [
       "False    69706\n",
       "True      2131\n",
       "Name: Age, dtype: int64"
      ]
     },
     "execution_count": 258,
     "metadata": {},
     "output_type": "execute_result"
    }
   ],
   "source": [
    "# Check the number of times 0 appear in the Age column.\n",
    "(df[\"Age\"] == 0).value_counts()"
   ]
  },
  {
   "cell_type": "markdown",
   "id": "eb9d0e8f",
   "metadata": {},
   "source": [
    "In the previous cell, I see there are over 2000 values with patients with 0 values for their ages.\n",
    "That's pretty much.\n",
    "\n",
    "There is no description in the dataset on what 0 value means for age. There is no information as to whether the dataset contains children or young kids.\n",
    "I will take the distribution of the ages of all the patients on histogram to see how much kids or under 18 appear in the dataset. \n",
    "If the number of times they appear is significant, I will take 0 values for under-one year old kids."
   ]
  },
  {
   "cell_type": "code",
   "execution_count": 259,
   "id": "a98bff5b",
   "metadata": {
    "scrolled": true
   },
   "outputs": [
    {
     "data": {
      "image/png": "[encoded data removed]",
      "text/plain": [
       "<Figure size 576x576 with 1 Axes>"
      ]
     },
     "metadata": {
      "needs_background": "light"
     },
     "output_type": "display_data"
    }
   ],
   "source": [
    "# Plot the distribution of the ages of patients on a histogram \n",
    "#  to see if the data contains a high number of children patients.\n",
    "\n",
    "df[\"Age\"].hist(figsize=(8,8), alpha=0.8)\n",
    "plt.title(\"Distribution of Patients's age\\n\", fontsize=15)\n",
    "plt.xlabel(\"Age\", fontsize=13)\n",
    "plt.ylabel(\"Frequency\", fontsize=13);\n"
   ]
  },
  {
   "cell_type": "markdown",
   "id": "93abf9ac",
   "metadata": {},
   "source": [
    "### Note:\n",
    "\n",
    "The distribution of patients' ages on the histogram plotted above  confirmed that the dataset contains the data of kids.\n",
    "There are over 10,000 appearances of under 10 year old kids according to the histogram. That's over 14 percent of the dataset.\n",
    "\n",
    "I can now confirm that children are part of the dataset.\n",
    "\n",
    "Hence, I will be assuming that the 0 values are under one year old kids and retain them in the dataset.\n"
   ]
  },
  {
   "cell_type": "markdown",
   "id": "4b86c98f",
   "metadata": {},
   "source": [
    "### Note:\n",
    "\n",
    "#### Drop Columns that will not be useful for this analysis.\n",
    "\n",
    "Now that I'm done with the age column, I will drop all the columns that will not be useful for my analysis.\n",
    " \n",
    "Columns such as PatientId and AppointmentID are data personal to the patient. I will drop them.\n",
    "I will also drop the Neighbourhood column.\n",
    "Since I already got the waiting time and waiting hour from the AppointmentDay and ScheduledDay. I will no longer be using the columns for my analysis. So, I'll drop them."
   ]
  },
  {
   "cell_type": "code",
   "execution_count": 260,
   "id": "1e6e2bfa",
   "metadata": {},
   "outputs": [],
   "source": [
    "# Drop Columns that will not be used for the analysis.\n",
    "\n",
    "df.drop([\"PatientId\", \"ScheduledDay\", \"AppointmentDay\", \"AppointmentID\", \"Neighbourhood\"], axis=1, inplace=True)\n",
    "\n"
   ]
  },
  {
   "cell_type": "markdown",
   "id": "22b98d04",
   "metadata": {},
   "source": [
    "### Warning!\n",
    "\n",
    "_Only run the previous cell once to avoid error._\n",
    "\n",
    "_If it throws an error, you might have run it more than once. \n",
    "You might have to go run the cells from the <a href= \"#wrangling\">beginning</a>._"
   ]
  },
  {
   "cell_type": "code",
   "execution_count": 261,
   "id": "7ec4fe16",
   "metadata": {},
   "outputs": [
    {
     "data": {
      "text/html": [
       "<div>\n",
       "<style scoped>\n",
       "    .dataframe tbody tr th:only-of-type {\n",
       "        vertical-align: middle;\n",
       "    }\n",
       "\n",
       "    .dataframe tbody tr th {\n",
       "        vertical-align: top;\n",
       "    }\n",
       "\n",
       "    .dataframe thead th {\n",
       "        text-align: right;\n",
       "    }\n",
       "</style>\n",
       "<table border=\"1\" class=\"dataframe\">\n",
       "  <thead>\n",
       "    <tr style=\"text-align: right;\">\n",
       "      <th></th>\n",
       "      <th>Gender</th>\n",
       "      <th>waiting_time</th>\n",
       "      <th>waiting_hour</th>\n",
       "      <th>Age</th>\n",
       "      <th>Scholarship</th>\n",
       "      <th>Hipertension</th>\n",
       "      <th>Diabetes</th>\n",
       "      <th>Alcoholism</th>\n",
       "      <th>Handcap</th>\n",
       "      <th>SMS_received</th>\n",
       "      <th>No-show</th>\n",
       "    </tr>\n",
       "  </thead>\n",
       "  <tbody>\n",
       "    <tr>\n",
       "      <th>5</th>\n",
       "      <td>F</td>\n",
       "      <td>1 days 15:23:09</td>\n",
       "      <td>39.0</td>\n",
       "      <td>76</td>\n",
       "      <td>0</td>\n",
       "      <td>1</td>\n",
       "      <td>0</td>\n",
       "      <td>0</td>\n",
       "      <td>0</td>\n",
       "      <td>0</td>\n",
       "      <td>1</td>\n",
       "    </tr>\n",
       "    <tr>\n",
       "      <th>6</th>\n",
       "      <td>F</td>\n",
       "      <td>1 days 08:54:48</td>\n",
       "      <td>32.0</td>\n",
       "      <td>23</td>\n",
       "      <td>0</td>\n",
       "      <td>0</td>\n",
       "      <td>0</td>\n",
       "      <td>0</td>\n",
       "      <td>0</td>\n",
       "      <td>0</td>\n",
       "      <td>0</td>\n",
       "    </tr>\n",
       "    <tr>\n",
       "      <th>7</th>\n",
       "      <td>F</td>\n",
       "      <td>1 days 08:20:02</td>\n",
       "      <td>32.0</td>\n",
       "      <td>39</td>\n",
       "      <td>0</td>\n",
       "      <td>0</td>\n",
       "      <td>0</td>\n",
       "      <td>0</td>\n",
       "      <td>0</td>\n",
       "      <td>0</td>\n",
       "      <td>0</td>\n",
       "    </tr>\n",
       "    <tr>\n",
       "      <th>9</th>\n",
       "      <td>F</td>\n",
       "      <td>1 days 11:11:35</td>\n",
       "      <td>35.0</td>\n",
       "      <td>19</td>\n",
       "      <td>0</td>\n",
       "      <td>0</td>\n",
       "      <td>0</td>\n",
       "      <td>0</td>\n",
       "      <td>0</td>\n",
       "      <td>0</td>\n",
       "      <td>1</td>\n",
       "    </tr>\n",
       "    <tr>\n",
       "      <th>10</th>\n",
       "      <td>F</td>\n",
       "      <td>1 days 09:01:49</td>\n",
       "      <td>33.0</td>\n",
       "      <td>30</td>\n",
       "      <td>0</td>\n",
       "      <td>0</td>\n",
       "      <td>0</td>\n",
       "      <td>0</td>\n",
       "      <td>0</td>\n",
       "      <td>0</td>\n",
       "      <td>1</td>\n",
       "    </tr>\n",
       "  </tbody>\n",
       "</table>\n",
       "</div>"
      ],
      "text/plain": [
       "   Gender    waiting_time  waiting_hour  Age  Scholarship  Hipertension  \\\n",
       "5       F 1 days 15:23:09          39.0   76            0             1   \n",
       "6       F 1 days 08:54:48          32.0   23            0             0   \n",
       "7       F 1 days 08:20:02          32.0   39            0             0   \n",
       "9       F 1 days 11:11:35          35.0   19            0             0   \n",
       "10      F 1 days 09:01:49          33.0   30            0             0   \n",
       "\n",
       "    Diabetes  Alcoholism  Handcap  SMS_received  No-show  \n",
       "5          0           0        0             0        1  \n",
       "6          0           0        0             0        0  \n",
       "7          0           0        0             0        0  \n",
       "9          0           0        0             0        1  \n",
       "10         0           0        0             0        1  "
      ]
     },
     "execution_count": 261,
     "metadata": {},
     "output_type": "execute_result"
    }
   ],
   "source": [
    "# Print first five rows to see the update on dataframe.\n",
    "df.head()"
   ]
  },
  {
   "cell_type": "code",
   "execution_count": 262,
   "id": "14999a08",
   "metadata": {},
   "outputs": [
    {
     "name": "stdout",
     "output_type": "stream",
     "text": [
      "<class 'pandas.core.frame.DataFrame'>\n",
      "Int64Index: 71837 entries, 5 to 110526\n",
      "Data columns (total 11 columns):\n",
      " #   Column        Non-Null Count  Dtype          \n",
      "---  ------        --------------  -----          \n",
      " 0   Gender        71837 non-null  object         \n",
      " 1   waiting_time  71837 non-null  timedelta64[ns]\n",
      " 2   waiting_hour  71837 non-null  float64        \n",
      " 3   Age           71837 non-null  int64          \n",
      " 4   Scholarship   71837 non-null  int64          \n",
      " 5   Hipertension  71837 non-null  int64          \n",
      " 6   Diabetes      71837 non-null  int64          \n",
      " 7   Alcoholism    71837 non-null  int64          \n",
      " 8   Handcap       71837 non-null  int64          \n",
      " 9   SMS_received  71837 non-null  int64          \n",
      " 10  No-show       71837 non-null  int64          \n",
      "dtypes: float64(1), int64(8), object(1), timedelta64[ns](1)\n",
      "memory usage: 6.6+ MB\n"
     ]
    }
   ],
   "source": [
    "# Check dataframe information to confirm reduced number of columns.\n",
    "df.info()"
   ]
  },
  {
   "cell_type": "markdown",
   "id": "c8000307",
   "metadata": {},
   "source": [
    "### Note:\n",
    "\n",
    "### Rename Column names.\n",
    "\n",
    "After removing columns that will not be useful for my analysis.\n",
    "I will first rename the \"No-show\" column names to \"show_up\" and the \"SMS-received\" column label to \"reminder\" for simplicity.\n",
    "After, I will go ahead to change all the columns names case to lowercase for consistency."
   ]
  },
  {
   "cell_type": "code",
   "execution_count": 271,
   "id": "67405e0d",
   "metadata": {},
   "outputs": [],
   "source": [
    "#rename columns\n",
    "\n",
    "df.rename(columns={ \"SMS_received\":\"reminder\", \"Handcap\":\"handicap\", \"Hipertension\":\"hypertension\", \"Scholarship\":\"free_health_care\", \"No-show\":\"show_up\"}, inplace=True)"
   ]
  },
  {
   "cell_type": "code",
   "execution_count": 272,
   "id": "a5260bd0",
   "metadata": {
    "scrolled": false
   },
   "outputs": [
    {
     "data": {
      "text/html": [
       "<div>\n",
       "<style scoped>\n",
       "    .dataframe tbody tr th:only-of-type {\n",
       "        vertical-align: middle;\n",
       "    }\n",
       "\n",
       "    .dataframe tbody tr th {\n",
       "        vertical-align: top;\n",
       "    }\n",
       "\n",
       "    .dataframe thead th {\n",
       "        text-align: right;\n",
       "    }\n",
       "</style>\n",
       "<table border=\"1\" class=\"dataframe\">\n",
       "  <thead>\n",
       "    <tr style=\"text-align: right;\">\n",
       "      <th></th>\n",
       "      <th>gender</th>\n",
       "      <th>waiting_time</th>\n",
       "      <th>waiting_hour</th>\n",
       "      <th>age</th>\n",
       "      <th>free_health_care</th>\n",
       "      <th>hypertension</th>\n",
       "      <th>diabetes</th>\n",
       "      <th>alcoholism</th>\n",
       "      <th>handicap</th>\n",
       "      <th>reminder</th>\n",
       "      <th>show_up</th>\n",
       "    </tr>\n",
       "  </thead>\n",
       "  <tbody>\n",
       "    <tr>\n",
       "      <th>0</th>\n",
       "      <td>F</td>\n",
       "      <td>1 days 15:23:09</td>\n",
       "      <td>39.0</td>\n",
       "      <td>76</td>\n",
       "      <td>0</td>\n",
       "      <td>1</td>\n",
       "      <td>0</td>\n",
       "      <td>0</td>\n",
       "      <td>0</td>\n",
       "      <td>0</td>\n",
       "      <td>1</td>\n",
       "    </tr>\n",
       "    <tr>\n",
       "      <th>1</th>\n",
       "      <td>F</td>\n",
       "      <td>1 days 08:54:48</td>\n",
       "      <td>32.0</td>\n",
       "      <td>23</td>\n",
       "      <td>0</td>\n",
       "      <td>0</td>\n",
       "      <td>0</td>\n",
       "      <td>0</td>\n",
       "      <td>0</td>\n",
       "      <td>0</td>\n",
       "      <td>0</td>\n",
       "    </tr>\n",
       "    <tr>\n",
       "      <th>2</th>\n",
       "      <td>F</td>\n",
       "      <td>1 days 08:20:02</td>\n",
       "      <td>32.0</td>\n",
       "      <td>39</td>\n",
       "      <td>0</td>\n",
       "      <td>0</td>\n",
       "      <td>0</td>\n",
       "      <td>0</td>\n",
       "      <td>0</td>\n",
       "      <td>0</td>\n",
       "      <td>0</td>\n",
       "    </tr>\n",
       "    <tr>\n",
       "      <th>3</th>\n",
       "      <td>F</td>\n",
       "      <td>1 days 11:11:35</td>\n",
       "      <td>35.0</td>\n",
       "      <td>19</td>\n",
       "      <td>0</td>\n",
       "      <td>0</td>\n",
       "      <td>0</td>\n",
       "      <td>0</td>\n",
       "      <td>0</td>\n",
       "      <td>0</td>\n",
       "      <td>1</td>\n",
       "    </tr>\n",
       "    <tr>\n",
       "      <th>4</th>\n",
       "      <td>F</td>\n",
       "      <td>1 days 09:01:49</td>\n",
       "      <td>33.0</td>\n",
       "      <td>30</td>\n",
       "      <td>0</td>\n",
       "      <td>0</td>\n",
       "      <td>0</td>\n",
       "      <td>0</td>\n",
       "      <td>0</td>\n",
       "      <td>0</td>\n",
       "      <td>1</td>\n",
       "    </tr>\n",
       "  </tbody>\n",
       "</table>\n",
       "</div>"
      ],
      "text/plain": [
       "  gender    waiting_time  waiting_hour  age  free_health_care  hypertension  \\\n",
       "0      F 1 days 15:23:09          39.0   76                 0             1   \n",
       "1      F 1 days 08:54:48          32.0   23                 0             0   \n",
       "2      F 1 days 08:20:02          32.0   39                 0             0   \n",
       "3      F 1 days 11:11:35          35.0   19                 0             0   \n",
       "4      F 1 days 09:01:49          33.0   30                 0             0   \n",
       "\n",
       "   diabetes  alcoholism  handicap  reminder  show_up  \n",
       "0         0           0         0         0        1  \n",
       "1         0           0         0         0        0  \n",
       "2         0           0         0         0        0  \n",
       "3         0           0         0         0        1  \n",
       "4         0           0         0         0        1  "
      ]
     },
     "execution_count": 272,
     "metadata": {},
     "output_type": "execute_result"
    }
   ],
   "source": [
    "# Check column names to confirm update\n",
    "df.head()"
   ]
  },
  {
   "cell_type": "code",
   "execution_count": 273,
   "id": "d5e86a57",
   "metadata": {},
   "outputs": [],
   "source": [
    "# Convert all column names to lowercase for consistency\n",
    "\n",
    "df.columns = df.columns.str.lower()"
   ]
  },
  {
   "cell_type": "code",
   "execution_count": 274,
   "id": "839394b7",
   "metadata": {
    "scrolled": false
   },
   "outputs": [
    {
     "data": {
      "text/html": [
       "<div>\n",
       "<style scoped>\n",
       "    .dataframe tbody tr th:only-of-type {\n",
       "        vertical-align: middle;\n",
       "    }\n",
       "\n",
       "    .dataframe tbody tr th {\n",
       "        vertical-align: top;\n",
       "    }\n",
       "\n",
       "    .dataframe thead th {\n",
       "        text-align: right;\n",
       "    }\n",
       "</style>\n",
       "<table border=\"1\" class=\"dataframe\">\n",
       "  <thead>\n",
       "    <tr style=\"text-align: right;\">\n",
       "      <th></th>\n",
       "      <th>gender</th>\n",
       "      <th>waiting_time</th>\n",
       "      <th>waiting_hour</th>\n",
       "      <th>age</th>\n",
       "      <th>free_health_care</th>\n",
       "      <th>hypertension</th>\n",
       "      <th>diabetes</th>\n",
       "      <th>alcoholism</th>\n",
       "      <th>handicap</th>\n",
       "      <th>reminder</th>\n",
       "      <th>show_up</th>\n",
       "    </tr>\n",
       "  </thead>\n",
       "  <tbody>\n",
       "    <tr>\n",
       "      <th>0</th>\n",
       "      <td>F</td>\n",
       "      <td>1 days 15:23:09</td>\n",
       "      <td>39.0</td>\n",
       "      <td>76</td>\n",
       "      <td>0</td>\n",
       "      <td>1</td>\n",
       "      <td>0</td>\n",
       "      <td>0</td>\n",
       "      <td>0</td>\n",
       "      <td>0</td>\n",
       "      <td>1</td>\n",
       "    </tr>\n",
       "    <tr>\n",
       "      <th>1</th>\n",
       "      <td>F</td>\n",
       "      <td>1 days 08:54:48</td>\n",
       "      <td>32.0</td>\n",
       "      <td>23</td>\n",
       "      <td>0</td>\n",
       "      <td>0</td>\n",
       "      <td>0</td>\n",
       "      <td>0</td>\n",
       "      <td>0</td>\n",
       "      <td>0</td>\n",
       "      <td>0</td>\n",
       "    </tr>\n",
       "    <tr>\n",
       "      <th>2</th>\n",
       "      <td>F</td>\n",
       "      <td>1 days 08:20:02</td>\n",
       "      <td>32.0</td>\n",
       "      <td>39</td>\n",
       "      <td>0</td>\n",
       "      <td>0</td>\n",
       "      <td>0</td>\n",
       "      <td>0</td>\n",
       "      <td>0</td>\n",
       "      <td>0</td>\n",
       "      <td>0</td>\n",
       "    </tr>\n",
       "    <tr>\n",
       "      <th>3</th>\n",
       "      <td>F</td>\n",
       "      <td>1 days 11:11:35</td>\n",
       "      <td>35.0</td>\n",
       "      <td>19</td>\n",
       "      <td>0</td>\n",
       "      <td>0</td>\n",
       "      <td>0</td>\n",
       "      <td>0</td>\n",
       "      <td>0</td>\n",
       "      <td>0</td>\n",
       "      <td>1</td>\n",
       "    </tr>\n",
       "    <tr>\n",
       "      <th>4</th>\n",
       "      <td>F</td>\n",
       "      <td>1 days 09:01:49</td>\n",
       "      <td>33.0</td>\n",
       "      <td>30</td>\n",
       "      <td>0</td>\n",
       "      <td>0</td>\n",
       "      <td>0</td>\n",
       "      <td>0</td>\n",
       "      <td>0</td>\n",
       "      <td>0</td>\n",
       "      <td>1</td>\n",
       "    </tr>\n",
       "  </tbody>\n",
       "</table>\n",
       "</div>"
      ],
      "text/plain": [
       "  gender    waiting_time  waiting_hour  age  free_health_care  hypertension  \\\n",
       "0      F 1 days 15:23:09          39.0   76                 0             1   \n",
       "1      F 1 days 08:54:48          32.0   23                 0             0   \n",
       "2      F 1 days 08:20:02          32.0   39                 0             0   \n",
       "3      F 1 days 11:11:35          35.0   19                 0             0   \n",
       "4      F 1 days 09:01:49          33.0   30                 0             0   \n",
       "\n",
       "   diabetes  alcoholism  handicap  reminder  show_up  \n",
       "0         0           0         0         0        1  \n",
       "1         0           0         0         0        0  \n",
       "2         0           0         0         0        0  \n",
       "3         0           0         0         0        1  \n",
       "4         0           0         0         0        1  "
      ]
     },
     "execution_count": 274,
     "metadata": {},
     "output_type": "execute_result"
    }
   ],
   "source": [
    "# Check column names to confirm update\n",
    "df.head()"
   ]
  },
  {
   "cell_type": "code",
   "execution_count": 275,
   "id": "198d2651",
   "metadata": {
    "scrolled": false
   },
   "outputs": [
    {
     "name": "stdout",
     "output_type": "stream",
     "text": [
      "<class 'pandas.core.frame.DataFrame'>\n",
      "RangeIndex: 71837 entries, 0 to 71836\n",
      "Data columns (total 11 columns):\n",
      " #   Column            Non-Null Count  Dtype          \n",
      "---  ------            --------------  -----          \n",
      " 0   gender            71837 non-null  object         \n",
      " 1   waiting_time      71837 non-null  timedelta64[ns]\n",
      " 2   waiting_hour      71837 non-null  float64        \n",
      " 3   age               71837 non-null  int64          \n",
      " 4   free_health_care  71837 non-null  int64          \n",
      " 5   hypertension      71837 non-null  int64          \n",
      " 6   diabetes          71837 non-null  int64          \n",
      " 7   alcoholism        71837 non-null  int64          \n",
      " 8   handicap          71837 non-null  int64          \n",
      " 9   reminder          71837 non-null  int64          \n",
      " 10  show_up           71837 non-null  int64          \n",
      "dtypes: float64(1), int64(8), object(1), timedelta64[ns](1)\n",
      "memory usage: 6.0+ MB\n"
     ]
    }
   ],
   "source": [
    "# Check dataframe information to confirm no errors were made.\n",
    "df.info()"
   ]
  },
  {
   "cell_type": "markdown",
   "id": "5c83b604",
   "metadata": {
    "scrolled": true
   },
   "source": [
    "#### Note:\n",
    "The above result shouldn't be showing 5 to 110526. Rather, it should show 0 to 71,836 entries.\n",
    "\n",
    "The reason for this anomaly was that I have dropped some rows previously and their indexes have been dropped along with them. \n",
    "\n",
    "For instance, rows with row index 0 to 4 have been dropped. That's the reason the row index is starting from 5 rather than 0.\n",
    "\n",
    "In the next cell, I  am going to reset all the row indexes in the dataset so it could start from 0 and end at 71,836 entries."
   ]
  },
  {
   "cell_type": "code",
   "execution_count": 276,
   "id": "172846ff",
   "metadata": {},
   "outputs": [],
   "source": [
    "# Reset index so indexes could start from 0 and end at 71,836\n",
    "\n",
    "df.reset_index(drop=True, inplace=True)"
   ]
  },
  {
   "cell_type": "code",
   "execution_count": 277,
   "id": "400f73aa",
   "metadata": {
    "scrolled": true
   },
   "outputs": [
    {
     "name": "stdout",
     "output_type": "stream",
     "text": [
      "<class 'pandas.core.frame.DataFrame'>\n",
      "RangeIndex: 71837 entries, 0 to 71836\n",
      "Data columns (total 11 columns):\n",
      " #   Column            Non-Null Count  Dtype          \n",
      "---  ------            --------------  -----          \n",
      " 0   gender            71837 non-null  object         \n",
      " 1   waiting_time      71837 non-null  timedelta64[ns]\n",
      " 2   waiting_hour      71837 non-null  float64        \n",
      " 3   age               71837 non-null  int64          \n",
      " 4   free_health_care  71837 non-null  int64          \n",
      " 5   hypertension      71837 non-null  int64          \n",
      " 6   diabetes          71837 non-null  int64          \n",
      " 7   alcoholism        71837 non-null  int64          \n",
      " 8   handicap          71837 non-null  int64          \n",
      " 9   reminder          71837 non-null  int64          \n",
      " 10  show_up           71837 non-null  int64          \n",
      "dtypes: float64(1), int64(8), object(1), timedelta64[ns](1)\n",
      "memory usage: 6.0+ MB\n"
     ]
    }
   ],
   "source": [
    "# show dataframe information to confirm update.\n",
    "\n",
    "df.info()"
   ]
  },
  {
   "cell_type": "code",
   "execution_count": 278,
   "id": "513f3b2b",
   "metadata": {},
   "outputs": [
    {
     "data": {
      "text/html": [
       "<div>\n",
       "<style scoped>\n",
       "    .dataframe tbody tr th:only-of-type {\n",
       "        vertical-align: middle;\n",
       "    }\n",
       "\n",
       "    .dataframe tbody tr th {\n",
       "        vertical-align: top;\n",
       "    }\n",
       "\n",
       "    .dataframe thead th {\n",
       "        text-align: right;\n",
       "    }\n",
       "</style>\n",
       "<table border=\"1\" class=\"dataframe\">\n",
       "  <thead>\n",
       "    <tr style=\"text-align: right;\">\n",
       "      <th></th>\n",
       "      <th>gender</th>\n",
       "      <th>waiting_time</th>\n",
       "      <th>waiting_hour</th>\n",
       "      <th>age</th>\n",
       "      <th>free_health_care</th>\n",
       "      <th>hypertension</th>\n",
       "      <th>diabetes</th>\n",
       "      <th>alcoholism</th>\n",
       "      <th>handicap</th>\n",
       "      <th>reminder</th>\n",
       "      <th>show_up</th>\n",
       "    </tr>\n",
       "  </thead>\n",
       "  <tbody>\n",
       "    <tr>\n",
       "      <th>0</th>\n",
       "      <td>F</td>\n",
       "      <td>1 days 15:23:09</td>\n",
       "      <td>39.0</td>\n",
       "      <td>76</td>\n",
       "      <td>0</td>\n",
       "      <td>1</td>\n",
       "      <td>0</td>\n",
       "      <td>0</td>\n",
       "      <td>0</td>\n",
       "      <td>0</td>\n",
       "      <td>1</td>\n",
       "    </tr>\n",
       "    <tr>\n",
       "      <th>1</th>\n",
       "      <td>F</td>\n",
       "      <td>1 days 08:54:48</td>\n",
       "      <td>32.0</td>\n",
       "      <td>23</td>\n",
       "      <td>0</td>\n",
       "      <td>0</td>\n",
       "      <td>0</td>\n",
       "      <td>0</td>\n",
       "      <td>0</td>\n",
       "      <td>0</td>\n",
       "      <td>0</td>\n",
       "    </tr>\n",
       "    <tr>\n",
       "      <th>2</th>\n",
       "      <td>F</td>\n",
       "      <td>1 days 08:20:02</td>\n",
       "      <td>32.0</td>\n",
       "      <td>39</td>\n",
       "      <td>0</td>\n",
       "      <td>0</td>\n",
       "      <td>0</td>\n",
       "      <td>0</td>\n",
       "      <td>0</td>\n",
       "      <td>0</td>\n",
       "      <td>0</td>\n",
       "    </tr>\n",
       "    <tr>\n",
       "      <th>3</th>\n",
       "      <td>F</td>\n",
       "      <td>1 days 11:11:35</td>\n",
       "      <td>35.0</td>\n",
       "      <td>19</td>\n",
       "      <td>0</td>\n",
       "      <td>0</td>\n",
       "      <td>0</td>\n",
       "      <td>0</td>\n",
       "      <td>0</td>\n",
       "      <td>0</td>\n",
       "      <td>1</td>\n",
       "    </tr>\n",
       "    <tr>\n",
       "      <th>4</th>\n",
       "      <td>F</td>\n",
       "      <td>1 days 09:01:49</td>\n",
       "      <td>33.0</td>\n",
       "      <td>30</td>\n",
       "      <td>0</td>\n",
       "      <td>0</td>\n",
       "      <td>0</td>\n",
       "      <td>0</td>\n",
       "      <td>0</td>\n",
       "      <td>0</td>\n",
       "      <td>1</td>\n",
       "    </tr>\n",
       "  </tbody>\n",
       "</table>\n",
       "</div>"
      ],
      "text/plain": [
       "  gender    waiting_time  waiting_hour  age  free_health_care  hypertension  \\\n",
       "0      F 1 days 15:23:09          39.0   76                 0             1   \n",
       "1      F 1 days 08:54:48          32.0   23                 0             0   \n",
       "2      F 1 days 08:20:02          32.0   39                 0             0   \n",
       "3      F 1 days 11:11:35          35.0   19                 0             0   \n",
       "4      F 1 days 09:01:49          33.0   30                 0             0   \n",
       "\n",
       "   diabetes  alcoholism  handicap  reminder  show_up  \n",
       "0         0           0         0         0        1  \n",
       "1         0           0         0         0        0  \n",
       "2         0           0         0         0        0  \n",
       "3         0           0         0         0        1  \n",
       "4         0           0         0         0        1  "
      ]
     },
     "execution_count": 278,
     "metadata": {},
     "output_type": "execute_result"
    }
   ],
   "source": [
    "# Print first five rows to confirm update on datafram.\n",
    "\n",
    "df.head()"
   ]
  },
  {
   "cell_type": "markdown",
   "id": "8eeb9819",
   "metadata": {},
   "source": [
    "### Note:\n",
    "\n",
    "Now, that I'm done with data cleaning, I will define the column names before moving to data exploration"
   ]
  },
  {
   "cell_type": "markdown",
   "id": "d420d93d",
   "metadata": {},
   "source": [
    "#### Definition of Columns:\n",
    "\n",
    "The column names below are columns that contain binary data. They can only contain 1 or 0.\n",
    "1 means True while 0 means False for the column.\n",
    "\n",
    "**free_health_care:** patients who have access to free medical care. \n",
    "\n",
    "**hypertension:** patients suffering from hypertension.\n",
    "\n",
    "**diabetes:** patients suffering from diabetes.\n",
    "\n",
    "**alcoholism:** patients who have alcohol tendency.\n",
    "\n",
    "**handicap:** patients suffering from handicapped.\n",
    "\n",
    "**reminder** stands for whether the patients received a reminder or not.\n",
    "\n",
    "**show_up** stands for whether the patients showed up or not for their appointments.\n",
    "\n",
    "\n",
    "#### Other Columns:\n",
    "\n",
    "**gender** It contains two data. \"F\" for female and \"M\" for male.\n",
    "\n",
    "**age** contains the age of the patients.\n",
    "\n",
    "**waiting_time:**  The time the patients waited. This is time between appointment day and scheduled day. waiting time is in days.\n",
    "\n",
    "**waiting_hours:** The waiting time of the patients in hours.\n",
    "\n"
   ]
  },
  {
   "cell_type": "markdown",
   "id": "8c1efa44",
   "metadata": {},
   "source": [
    "<a id='eda'></a>\n",
    "## Exploratory Data Analysis\n",
    "\n",
    "\n",
    "### Research Question 1\n",
    "\n",
    "### Does age affect the rate at which patients showed up for their appointments?"
   ]
  },
  {
   "cell_type": "markdown",
   "id": "d68c9d3a",
   "metadata": {},
   "source": [
    " ### Note:\n",
    " \n",
    " First, I will take a mask of those that showed up and those that didn't\n",
    " The mask will be useful for the analysis.\n",
    " \n",
    " It will enable me distinguish the data of patients that showed up from the data of patients that didn't.\n",
    " \n",
    " Note that I could replace show up with **present** and those that didn't show up with **absent** anywhere in this data  exploration."
   ]
  },
  {
   "cell_type": "code",
   "execution_count": 279,
   "id": "3a889da2",
   "metadata": {},
   "outputs": [],
   "source": [
    "# show represents the mask of those that showed up for their appointments.\n",
    "show = df[\"show_up\"] == 1\n",
    "\n",
    "# not_show is a mask of those that didn't show up for their appointments.\n",
    "not_show = df[\"show_up\"] == 0"
   ]
  },
  {
   "cell_type": "markdown",
   "id": "6113cdc7",
   "metadata": {},
   "source": [
    "### Note: \n",
    "\n",
    "In the next cells, I will find the average age of patients that showed up for their appointments and patients that didn't.\n",
    "\n",
    "I will then round the age to the nearest whole number using **Numpy** round()."
   ]
  },
  {
   "cell_type": "code",
   "execution_count": 280,
   "id": "5b0566b7",
   "metadata": {},
   "outputs": [
    {
     "data": {
      "text/plain": [
       "40.0"
      ]
     },
     "execution_count": 280,
     "metadata": {},
     "output_type": "execute_result"
    }
   ],
   "source": [
    "# Average age of patients that showed up for their appointments.\n",
    "\n",
    "show_avg_age = np.round(df[\"age\"][show].mean())\n",
    "show_avg_age"
   ]
  },
  {
   "cell_type": "code",
   "execution_count": 281,
   "id": "78cbdae9",
   "metadata": {
    "scrolled": true
   },
   "outputs": [
    {
     "data": {
      "text/plain": [
       "35.0"
      ]
     },
     "execution_count": 281,
     "metadata": {},
     "output_type": "execute_result"
    }
   ],
   "source": [
    "# Average age of patients that didn't showed up for their appointments.\n",
    "\n",
    "NoShow_avg_age = np.round(df[\"age\"][not_show].mean())\n",
    "NoShow_avg_age"
   ]
  },
  {
   "cell_type": "markdown",
   "id": "c196626c",
   "metadata": {},
   "source": [
    "### Note:\n",
    "\n",
    "In the preceeding cells,  I got the average age of patients that showed up for their appointments and those that didn't.\n",
    "\n",
    "In the following cells, I will show the visualisation of the average age of patients on a bar chart.\n",
    "\n",
    "I will be using the **Numpy** library to take an array of numbers to represent the x-axis.\n",
    "\n",
    "Note that **Present** in the x-axis label represents patients that showed up for their appointments while **Absent** represents patients that didn't show up for their appointments.\n"
   ]
  },
  {
   "cell_type": "code",
   "execution_count": 282,
   "id": "fee4f13b",
   "metadata": {},
   "outputs": [],
   "source": [
    "# Variable holding the value of the base and height of the bar chart.\n",
    "# Use the numpy library to take the array of numbers for the x-axis labels.\n",
    "\n",
    "height = [show_avg_age, NoShow_avg_age]\n",
    "base = np.arange(len(height))\n",
    "\n",
    "# x-axis label\n",
    "# present represents patients that showed up.\n",
    "# absent represents patients that didn't show up.\n",
    "label = [\"Present\", \"Absent\"]\n"
   ]
  },
  {
   "cell_type": "markdown",
   "id": "a4febd00",
   "metadata": {},
   "source": [
    "### Note:\n",
    "Much of the values that will be plotted on a bar chart in this analysis have closer values. \n",
    "\n",
    "It may be difficult to know the values of each bar on a bar chart because their values are close.\n",
    "\n",
    "So, I have added a data label to make the values of the bars easier to read.\n",
    "This means that each value of the bars will be placed on top of the bars.\n",
    "\n",
    "In the cell below is a function that add data labels to the bar charts.\n",
    "\n",
    "I will call this function from time to time when I'm in need of it to add data labels to bar charts.\n",
    "\n",
    "I will also use other matplotlib method other than this function to add data labels to bar charts where appropriate."
   ]
  },
  {
   "cell_type": "code",
   "execution_count": 283,
   "id": "7de81ba1",
   "metadata": {},
   "outputs": [],
   "source": [
    "# space is the distance between the bar and data label.\n",
    "space = 1\n",
    "#  Function to add data label to bar charts.\n",
    "def addlabel(x,y):\n",
    "    for i in x:\n",
    "        plt.text(i, y[i]+ space, y[i], ha=\"center\") # I added a space  to the y-coordinate to create a distance between the bar and the data label."
   ]
  },
  {
   "cell_type": "markdown",
   "id": "558b2f92",
   "metadata": {},
   "source": [
    "### Note:\n",
    "\n",
    "In the following cell, I call the seaborn function to add a background colour to the charts.\n",
    "\n",
    "Its effect will appear in  all the charts in this analysis."
   ]
  },
  {
   "cell_type": "code",
   "execution_count": 284,
   "id": "3c8c8709",
   "metadata": {},
   "outputs": [],
   "source": [
    "# code to add background grid to charts\n",
    "sns.set_style(\"darkgrid\")"
   ]
  },
  {
   "cell_type": "code",
   "execution_count": 285,
   "id": "cf447b4f",
   "metadata": {},
   "outputs": [
    {
     "data": {
      "image/png": "[encoded data removed]",
      "text/plain": [
       "<Figure size 720x504 with 1 Axes>"
      ]
     },
     "metadata": {},
     "output_type": "display_data"
    }
   ],
   "source": [
    "# Bar chart showing the average age of patients that showed up for their appointments.\n",
    "\n",
    "# Size of the bar chart.\n",
    "plt.figure(figsize=(10,7))\n",
    "\n",
    "#  Plot the bar chart.\n",
    "plt.bar(x= base, height= height, width=0.3, alpha= 0.6)\n",
    "\n",
    "# Bar chart Title.\n",
    "plt.title(\"Average Age of Patients who are Present and Absent for their appointments.\\n\", fontsize=17)\n",
    "\n",
    "# Add ticks and labels to the bar chart.\n",
    "plt.xlabel(\"Present and Absent Patients\", fontsize=15)\n",
    "plt.xticks(base, label, fontsize=15)\n",
    "plt.ylabel(\"Average Age\", fontsize=15);\n",
    "\n",
    "\n",
    "# Call the function to add data label to the chart.\n",
    "addlabel(base,height)\n",
    "\n",
    "plt.show()"
   ]
  },
  {
   "cell_type": "markdown",
   "id": "399048ed",
   "metadata": {},
   "source": [
    "### Observation:\n",
    "\n",
    "I observe from the above chart that the average age of those that showed up are 5 years higher than those that didn't.\n",
    "\n",
    "In the following codes, I'll take the distribution of how the patients showed up in relative to their age on a histogram to further see if that is a strong correlation."
   ]
  },
  {
   "cell_type": "code",
   "execution_count": 286,
   "id": "4d482550",
   "metadata": {},
   "outputs": [
    {
     "data": {
      "image/png": "[encoded data removed]",
      "text/plain": [
       "<Figure size 720x576 with 1 Axes>"
      ]
     },
     "metadata": {},
     "output_type": "display_data"
    }
   ],
   "source": [
    "# The distribution of the ages of patients that are present for their appointments and those that are absent.\n",
    "\n",
    "# Shape of histogram.\n",
    "plt.figure(figsize= (10,8))\n",
    "\n",
    "# Histogram of patients that were present for their appointments.\n",
    "df[\"age\"][show].hist(label = \"Present\", alpha = 0.6)\n",
    "\n",
    "# Histogram of patients that were absent for their appointments.\n",
    "df[\"age\"][not_show].hist(label = \"Absent\", alpha = 0.7)\n",
    "\n",
    "# Title and labels.\n",
    "plt.title(\"How patients showed up for their appointments in relative to their age\\n\", fontsize=15)\n",
    "plt.xlabel(\"Age\", fontsize=13)\n",
    "plt.ylabel(\"Number of Patients\", fontsize=13)\n",
    "\n",
    "# Display legend and display histogram.\n",
    "plt.legend()\n",
    "plt.show();"
   ]
  },
  {
   "cell_type": "markdown",
   "id": "f363e70b",
   "metadata": {},
   "source": [
    "### Observation:\n",
    "\n",
    "There is no significant difference in the age of patients that showed up for their appointment and those that didn't.\n",
    "\n",
    "There are more younger folks under the age of 60 in the data.\n",
    "\n",
    "More patients, both young and aged showed up for their appointments than those that didn't. "
   ]
  },
  {
   "cell_type": "code",
   "execution_count": null,
   "id": "19c8b5b3",
   "metadata": {},
   "outputs": [],
   "source": []
  },
  {
   "cell_type": "markdown",
   "id": "ed9d016d",
   "metadata": {},
   "source": [
    "### Research question 2\n",
    "\n",
    "#### Did one gender show up for their appointments than the other?"
   ]
  },
  {
   "cell_type": "markdown",
   "id": "375f25da",
   "metadata": {},
   "source": [
    "In this section, I will be looking to know how patients showed up relative to their gender.\n",
    "\n",
    "Are more male patients present at the hospital for their appointments than female patients?\n",
    "\n",
    "I will explore this in this section."
   ]
  },
  {
   "cell_type": "markdown",
   "id": "3010420f",
   "metadata": {},
   "source": [
    "### Note:\n",
    "\n",
    "First, I will find the average rate of patients that showed up by their gender. \n",
    "\n",
    "Since the higher value of the show_up colum is one, the average value will be less than one. This means the average value can be expressed in percentage.\n",
    "\n",
    "I will find the average percentage by multiplying the average by 100. I will then use numpy round() to round the percentage to two decimal places."
   ]
  },
  {
   "cell_type": "code",
   "execution_count": 287,
   "id": "ed8e1e84",
   "metadata": {
    "scrolled": true
   },
   "outputs": [
    {
     "data": {
      "text/plain": [
       "gender\n",
       "F    71.57\n",
       "M    71.32\n",
       "Name: show_up, dtype: float64"
      ]
     },
     "execution_count": 287,
     "metadata": {},
     "output_type": "execute_result"
    }
   ],
   "source": [
    "# Average of how both genders showed up for their appointments in percentage.\n",
    "\n",
    "avg_gender = np.round(df.groupby(\"gender\")[\"show_up\"].mean() * 100, 2)\n",
    "avg_gender"
   ]
  },
  {
   "cell_type": "markdown",
   "id": "86f0e590",
   "metadata": {},
   "source": [
    "### Note:\n",
    "\n",
    "After finding the percentage average of male and female patients that showed up for their appointments.\n",
    "\n",
    "I will go ahead to plot the values on a bar chart.\n",
    "\n",
    "I will also call the addlabel(x,y) function written previously to add the percentage values on top of the bar chart."
   ]
  },
  {
   "cell_type": "code",
   "execution_count": 288,
   "id": "205ecd05",
   "metadata": {
    "scrolled": false
   },
   "outputs": [
    {
     "data": {
      "image/png": "[encoded data removed]",
      "text/plain": [
       "<Figure size 504x432 with 1 Axes>"
      ]
     },
     "metadata": {},
     "output_type": "display_data"
    }
   ],
   "source": [
    "# A bar chart showing the percentage of how both gender showed up for their appointments.\n",
    "# I will use the numpy library to take a range of values for the x-axis.\n",
    "\n",
    "\n",
    "label = [\"Female\", \"Male\"]\n",
    "\n",
    "# Numpy is used to get an array of a range of numbers for the x-axis.\n",
    "base = np.arange(len(label))\n",
    "\n",
    "\n",
    "# height is the tick value of the y axis.\n",
    "height =  np.arange(0, 110, 10)\n",
    "\n",
    "# Shape of the bar chart.\n",
    "plt.figure(figsize=(7,6))\n",
    "\n",
    " # Plot a bar chart showing the Percentage average of patients that showed up according to their gender.\n",
    "plt.bar(base, avg_gender, width=0.5, alpha=0.6)\n",
    "\n",
    "\n",
    "# Title, ticks and labels.\n",
    "plt.title(\"Percentage of how both Genders Showed up for their Appointments.\\n\", fontsize=15)\n",
    "plt.xlabel(\"Gender\", fontsize=13)\n",
    "plt.ylabel(\"Show Up Percentage\", fontsize=13)\n",
    "plt.xticks(base, label, fontsize=13)\n",
    "plt.yticks(height);\n",
    "\n",
    "# Call function to add label to the bars.\n",
    "addlabel(base, avg_gender)\n",
    "\n",
    "\n",
    "# Display chart\n",
    "plt.show()"
   ]
  },
  {
   "cell_type": "markdown",
   "id": "3b1f829b",
   "metadata": {},
   "source": [
    "#### Observation:\n",
    "I can deduce from the previous codes and charts that 71.6% of the female showed up while 71.3% of the male showed up.\n",
    "\n",
    "No significant difference between both male and female.\n",
    "I can't find any correlation among both variables yet. I will explore more later."
   ]
  },
  {
   "cell_type": "code",
   "execution_count": null,
   "id": "9bcae149",
   "metadata": {},
   "outputs": [],
   "source": []
  },
  {
   "cell_type": "markdown",
   "id": "006d4eee",
   "metadata": {},
   "source": [
    "### Research Question 3\n",
    "\n",
    "#### Are patients absent for their appointments because they are not financially capable to pay their bills?\n",
    "\n"
   ]
  },
  {
   "cell_type": "markdown",
   "id": "45e40372",
   "metadata": {},
   "source": [
    "\n",
    "In this section, I will find out by exploratory data analysis  whether lack of access to free_health_care \n",
    "might be a reason patients miss thier appointments.\n",
    "\n",
    "Please, note that free_health_care stands for patients who have access to free medical care.\n",
    "\n",
    "I will find the average percentage of patients who either have access to free medical care or not and showed up for their appointments. \n",
    "\n",
    "\n",
    "I will also use **Numpy** round() function to round up the percentage value to two decimal places.\n",
    "\n",
    "Lastly, I will show how both group differ on a bar chart."
   ]
  },
  {
   "cell_type": "code",
   "execution_count": 289,
   "id": "458e1ecf",
   "metadata": {},
   "outputs": [
    {
     "data": {
      "text/plain": [
       "free_health_care\n",
       "0    72.15\n",
       "1    65.01\n",
       "Name: show_up, dtype: float64"
      ]
     },
     "execution_count": 289,
     "metadata": {},
     "output_type": "execute_result"
    }
   ],
   "source": [
    "#The average percentage of patients that showed up for their appointments among those who have access to free medical care \n",
    "# and those that pay their bills themselves.\n",
    "\n",
    "free_health_care = np.round(df.groupby(\"free_health_care\")[\"show_up\"].mean() * 100, 2) # Numpy round() function to round to two decimal places.\n",
    "free_health_care"
   ]
  },
  {
   "cell_type": "code",
   "execution_count": 290,
   "id": "90915977",
   "metadata": {
    "scrolled": true
   },
   "outputs": [
    {
     "data": {
      "image/png": "[encoded data removed]",
      "text/plain": [
       "<Figure size 504x360 with 1 Axes>"
      ]
     },
     "metadata": {},
     "output_type": "display_data"
    }
   ],
   "source": [
    "# A bar chart showing the percentage of patients that showed up among those who received free medical care \n",
    "#  and those that did not.\n",
    "\n",
    " # tick values of y axis.\n",
    "ytick = np.arange(0, 110, 10)\n",
    "\n",
    "# tick label of x-axis.\n",
    "label = [\"No Medical Aid\", \"Free Medical Aid\"]\n",
    "\n",
    "# tick value of x-axis\n",
    "base = np.arange(len(label))\n",
    "\n",
    "# shape of the bar chart.\n",
    "plt.figure(figsize=(7,5))\n",
    "\n",
    "# Plot bar chart\n",
    "plt.bar(base, free_health_care, width=0.5, alpha=0.6)\n",
    "\n",
    "# Bar chart title \n",
    "plt.title(\"Percentage of Patients that Showed  Up by free_health_care\\n\", fontsize=15)\n",
    "\n",
    "# labels of x and y axis.\n",
    "plt.xlabel(\"free_health_care\", fontsize=14)\n",
    "plt.ylabel(\"Percentage of Show Up\", fontsize=14)\n",
    "\n",
    "# x and y tick values.\n",
    "plt.xticks(base, label, fontsize=12)\n",
    "plt.yticks(ytick);\n",
    "\n",
    "# Call function to add percentage values to the bars.\n",
    "addlabel(base, free_health_care)\n",
    "\n",
    "# Display chart.\n",
    "plt.show()"
   ]
  },
  {
   "cell_type": "markdown",
   "id": "54e8e2ef",
   "metadata": {},
   "source": [
    "#### Observation:\n",
    "\n",
    "Patients who cater for their medical bills themselves showed up for their appointment \n",
    "more than patients whose medical bills are sponsored.\n",
    "\n",
    "72 percent of patients who showed up for their appointments paid their bills themselves\n",
    "\n",
    "65 percent of patients  who showed up received free medical care.\n",
    "\n",
    "Lack of funds may not be the reason patients didn't show up for their appointments.\n",
    "In fact, It appears those who pay for their medical care are more likely to show up for their appointments than those pay nothing. 7 percent more than those that receive free medical care. "
   ]
  },
  {
   "cell_type": "code",
   "execution_count": null,
   "id": "05717518",
   "metadata": {},
   "outputs": [],
   "source": []
  },
  {
   "cell_type": "markdown",
   "id": "9de9f642",
   "metadata": {},
   "source": [
    "### Research Question 4\n",
    "\n",
    "\n",
    "#### In this section, I will be taking a look at patients' ailments and how their ailments could affect how they showed up for their appointments.\n",
    "\n",
    "\n",
    "How did patients' ailments  affect how they showed up for their appointments?\n",
    "\n",
    "Did patients with certain  ailments care more about their health than those without?\n",
    "\n",
    "Please, note that **\"Positive\"** values on the xtick labels of the charts represents patients suffering from the ailment.\n",
    "\n",
    "While  **\"Negative\"** values on the xtick labels of the charts represents patients who have no such ailment."
   ]
  },
  {
   "cell_type": "markdown",
   "id": "f934b008",
   "metadata": {},
   "source": [
    "#### Note:\n",
    "\n",
    "In the next set of cells, I will be finding the percentages of patients suffering from a certain ailments and those that don't that showed up for thier appointments."
   ]
  },
  {
   "cell_type": "code",
   "execution_count": 291,
   "id": "d7532c19",
   "metadata": {
    "scrolled": false
   },
   "outputs": [
    {
     "data": {
      "text/plain": [
       "hypertension\n",
       "0    70.15\n",
       "1    76.53\n",
       "Name: show_up, dtype: float64"
      ]
     },
     "execution_count": 291,
     "metadata": {},
     "output_type": "execute_result"
    }
   ],
   "source": [
    "# Percentage average of patients with or without hypertension that showed up for their appointment\n",
    "# Use Numpy round() function to round the  percentage values to two decimal places.\n",
    "\n",
    "hypertension = np.round(df.groupby(\"hypertension\")[\"show_up\"].mean() *100, 2)\n",
    "hypertension"
   ]
  },
  {
   "cell_type": "markdown",
   "id": "c2bb87d2",
   "metadata": {},
   "source": [
    "#### Observation:\n",
    "I can deduce that 76 percent of patients suffering from hypertension showed up for their appointments while 70 percent of  patients without hypertension showed up for their appointments.\n",
    "\n",
    "This means more patients suffering from hypertension showed up for their appointments than patient who has no hypertension.\n",
    "\n",
    "Though by only 6% rate."
   ]
  },
  {
   "cell_type": "code",
   "execution_count": 292,
   "id": "124571cc",
   "metadata": {
    "scrolled": false
   },
   "outputs": [
    {
     "data": {
      "text/plain": [
       "diabetes\n",
       "0    71.20\n",
       "1    75.06\n",
       "Name: show_up, dtype: float64"
      ]
     },
     "execution_count": 292,
     "metadata": {},
     "output_type": "execute_result"
    }
   ],
   "source": [
    "# Percentage of diabetic and non-diabetic patients that showed up for their appointment\n",
    "\n",
    "# Use Numpy round() function  to provide a rounded percentage value of the average.\n",
    "\n",
    "diabetes = np.round(df.groupby(\"diabetes\")[\"show_up\"].mean() * 100, 2)\n",
    "diabetes"
   ]
  },
  {
   "cell_type": "markdown",
   "id": "3cd7ad04",
   "metadata": {},
   "source": [
    "#### Observation:\n",
    "\n",
    "I observe that 75 percent of diabetic patients showed up for their appointments while 71 percent of non-diabetic patients showed up for their appointments.\n",
    "\n",
    "This means more patients suffering from diabetes showed up for their appointments than patient who has no diabetes.\n",
    "\n",
    "Though by only 4%."
   ]
  },
  {
   "cell_type": "code",
   "execution_count": 293,
   "id": "a5f81f8d",
   "metadata": {
    "scrolled": false
   },
   "outputs": [
    {
     "data": {
      "text/plain": [
       "handicap\n",
       "0    71.43\n",
       "1    74.94\n",
       "Name: show_up, dtype: float64"
      ]
     },
     "execution_count": 293,
     "metadata": {},
     "output_type": "execute_result"
    }
   ],
   "source": [
    "# Percentage of patient with and without handicap that showed up and didn't show up for their appointment\n",
    "\n",
    "# Use Numpy round() function  to provide a rounded percentage value of the average while multiplying by 100\n",
    "handicap = np.round(df.groupby(\"handicap\")[\"show_up\"].mean() * 100, 2)\n",
    "handicap"
   ]
  },
  {
   "cell_type": "markdown",
   "id": "95b23ded",
   "metadata": {
    "scrolled": false
   },
   "source": [
    "#### Observation:\n",
    "\n",
    "74 percent of handicapped patients showed up for their appointments.\n",
    "While 71 percent of non-handicapped patients showed up for their appointments.\n",
    "\n",
    "This means more  handicapped patients showed up for their appointments than patients who are not handicapped.\n",
    "\n",
    "Though, by only 3%."
   ]
  },
  {
   "cell_type": "code",
   "execution_count": 294,
   "id": "43d56eb1",
   "metadata": {
    "scrolled": false
   },
   "outputs": [
    {
     "data": {
      "text/plain": [
       "alcoholism\n",
       "0    71.63\n",
       "1    65.90\n",
       "Name: show_up, dtype: float64"
      ]
     },
     "execution_count": 294,
     "metadata": {},
     "output_type": "execute_result"
    }
   ],
   "source": [
    "# Average values of alcoholic and  non-alcoholic patients who showed up for their appointments.\n",
    "\n",
    "# Use Numpy to provide a rounded percentage value to two decimal places.\n",
    "\n",
    "alcoholism = np.round(df.groupby(\"alcoholism\")[\"show_up\"].mean() * 100, 2)\n",
    "alcoholism"
   ]
  },
  {
   "cell_type": "markdown",
   "id": "5069de8b",
   "metadata": {},
   "source": [
    "#### Observation:\n",
    "\n",
    "About 66 percent of alcoholic patients showed up for their appointments.\n",
    "While about 72 percent of non-alcoholic patients showed up for their appointments.\n",
    "\n",
    "This means more non-alcoholic patients showed up for their appointments than patients who are alcoholic.\n",
    "\n",
    "Though, by only 6%."
   ]
  },
  {
   "cell_type": "markdown",
   "id": "9d7ae7a9",
   "metadata": {},
   "source": [
    "#### Note:\n",
    "\n",
    "The codes in the cell below plots all the percentages of patients who showed up for their appointments on a bar chart.\n",
    "It shows the distribution between how  these patients showed up and the kind of ailments they suffer from.\n",
    "\n",
    "**Negative** means patients that did not have a certain ailment.\n",
    "\n",
    "**Positive** means patients that are suffering from a certain ailment."
   ]
  },
  {
   "cell_type": "code",
   "execution_count": 295,
   "id": "50fd85b2",
   "metadata": {},
   "outputs": [],
   "source": [
    "# Import numpy library to get the value of x-axis for the bar charts.\n",
    "\n",
    "# tick values for x-axis for the bar charts.\n",
    "bar = np.arange(len(hypertension))\n",
    "\n",
    "# width of the bars.\n",
    "width = 0.2\n",
    "\n",
    "# label of x axis.\n",
    "xlabel= [\"Negative\", \"Positive\"]\n",
    "\n",
    "# tick values of y axis.\n",
    "ytick  = np.arange(0,110, 10)   # I make the ytick values 0 to 100 to depict percentage values."
   ]
  },
  {
   "cell_type": "code",
   "execution_count": 296,
   "id": "42c0c59d",
   "metadata": {},
   "outputs": [
    {
     "data": {
      "image/png": "[encoded data removed]",
      "text/plain": [
       "<Figure size 720x504 with 1 Axes>"
      ]
     },
     "metadata": {},
     "output_type": "display_data"
    },
    {
     "data": {
      "image/png": "[encoded data removed]",
      "text/plain": [
       "<Figure size 720x504 with 1 Axes>"
      ]
     },
     "metadata": {},
     "output_type": "display_data"
    }
   ],
   "source": [
    "\n",
    "# Create two axes and two figures.\n",
    "fig1, ax1 = plt.subplots(figsize=(10,7))\n",
    "fig2, ax2 = plt.subplots(figsize=(10,7))\n",
    "\n",
    "#  bar charts of patients for hypertension and diabtes\n",
    "hypertension_bar = ax1.bar(bar-width/2, hypertension, width, label=\"hypertension\", alpha=0.6)\n",
    "diabetes_bar  =ax1.bar(bar+width/2, diabetes, width, label= \"Diabetes\",alpha=0.6)\n",
    "\n",
    "#  bar charts of patients for alcoholism and handicap\n",
    "alcoholism_bar = ax2.bar(bar-width/2, alcoholism, width, label=\"Alcoholism\",alpha=0.6)\n",
    "handicap_bar = ax2.bar(bar+width/2, handicap, width, label=\"handicap\",alpha=0.6)\n",
    "\n",
    "# Adding the percentage values to the top of the bars for easy access.\n",
    "ax1.bar_label(hypertension_bar, padding=2)\n",
    "ax1.bar_label(diabetes_bar, padding=2)\n",
    "ax2.bar_label(alcoholism_bar, padding=2)\n",
    "ax2.bar_label(handicap_bar, padding=2)\n",
    "\n",
    "\n",
    "# Setting title\n",
    "ax1.set_title(\"Percentage of Patients who Showed up\", fontsize=15)\n",
    "ax2.set_title(\"Percentage of Patients who Showed up\", fontsize=15)\n",
    "\n",
    "# Setting ticks on x-axis.\n",
    "ax1.set_xticks(bar)\n",
    "ax2.set_xticks(bar)\n",
    "\n",
    "# Setting ticks on y-axis\n",
    "ax1.set_yticks(ytick)\n",
    "ax2.set_yticks(ytick)\n",
    "\n",
    "#Setting tick labels on x-axis.\n",
    "ax1.set_xticklabels(xlabel, fontsize=12)\n",
    "ax2.set_xticklabels(xlabel, fontsize=12)\n",
    "\n",
    "\n",
    "# Setting x-axis labels\n",
    "ax1.set_xlabel(\"Patients\", fontsize=13)\n",
    "ax2.set_xlabel(\"Patients\", fontsize=13)\n",
    "\n",
    "# Setting y-axis label\n",
    "ax1.set_ylabel(\"Percentage\", fontsize=13)\n",
    "ax2.set_ylabel(\"Percentage\", fontsize=13)\n",
    "\n",
    "# legend\n",
    "ax1.legend()\n",
    "ax2.legend()\n",
    "\n",
    "# Show the visualisaion\n",
    "plt.show()"
   ]
  },
  {
   "cell_type": "markdown",
   "id": "0cd75d01",
   "metadata": {},
   "source": [
    "#### Observation:\n",
    "\n",
    "From the above charts, I observe that the bars on the right side(positive) are higher than those on the left(negative).\n",
    "\n",
    "Since the negative label represents patients that not suffering from the ailment and positive label represent patients that suffering from a certain ailment.\n",
    "\n",
    "This means patients with such ailment are more likely to show up for their appointments than patients who are not suffering from the ailments.\n",
    "\n",
    "An exception is the alcoholism patients. It appears non-alcoholic patients show up for their appointments than patients that have alcohol tendency.\n",
    "\n",
    "From the bar chart, more patients suffering from hypertension showed up more(At 76.53% rate) than any other patients.\n",
    "while patients who have alcohol tendency showed up the least(At 65.9% rate)."
   ]
  },
  {
   "cell_type": "markdown",
   "id": "477d11f7",
   "metadata": {},
   "source": [
    "#### Observation:\n",
    "\n",
    "A Higher percentage of non-alcoholic patients showed up for their appointments than Alcoholic patients\n",
    "71.63 percent Against 65.9 percent."
   ]
  },
  {
   "cell_type": "code",
   "execution_count": null,
   "id": "f726d080",
   "metadata": {},
   "outputs": [],
   "source": []
  },
  {
   "cell_type": "markdown",
   "id": "0cd430f2",
   "metadata": {},
   "source": [
    "### Research Question 5\n",
    "\n",
    "####  Does sending reminder to patients increase the chances of showing up for their appointments?"
   ]
  },
  {
   "cell_type": "markdown",
   "id": "260ba0ac",
   "metadata": {},
   "source": [
    "In this section, I will first check if the number of reminders increase the number of show up.\n",
    "Next, I will check how reminder can have an impact on patients with certain disease."
   ]
  },
  {
   "cell_type": "code",
   "execution_count": 297,
   "id": "eee92acd",
   "metadata": {},
   "outputs": [
    {
     "data": {
      "text/plain": [
       "0    36402\n",
       "1    35435\n",
       "Name: reminder, dtype: int64"
      ]
     },
     "execution_count": 297,
     "metadata": {},
     "output_type": "execute_result"
    }
   ],
   "source": [
    "# Total number of patients who received a reminder.\n",
    "#  Note that 1 means that a reminder was sent.\n",
    "# While 0 means that no reminder was sent.\n",
    "\n",
    "df[\"reminder\"].value_counts()"
   ]
  },
  {
   "cell_type": "markdown",
   "id": "643c0f2c",
   "metadata": {},
   "source": [
    "#### Observation: \n",
    "\n",
    "The total number of patients who received a reminder is 35,435 patients. Almost half of the total patients in the cleaned dataset received a reminder.\n",
    "\n",
    "\n",
    "#### Note:\n",
    "\n",
    "Next, I'll find the total percentage of patients who received a reminder and those that didn't but showed up for their appointments.\n",
    "I'll do this by finding the mean value of the show_up column by reminder.\n",
    "I will then take the percentage and round it up to two decimal places with **Numpy** round() function."
   ]
  },
  {
   "cell_type": "code",
   "execution_count": 298,
   "id": "69f3f680",
   "metadata": {
    "scrolled": false
   },
   "outputs": [
    {
     "data": {
      "text/plain": [
       "reminder\n",
       "0    70.58\n",
       "1    72.41\n",
       "Name: show_up, dtype: float64"
      ]
     },
     "execution_count": 298,
     "metadata": {},
     "output_type": "execute_result"
    }
   ],
   "source": [
    "# The Average and Average percentage of patients who received/didn't receive a reminder and showed up\n",
    "reminder = np.round(df.groupby(\"reminder\")[\"show_up\"].mean() *100, 2)\n",
    "reminder"
   ]
  },
  {
   "cell_type": "markdown",
   "id": "37caa3d9",
   "metadata": {},
   "source": [
    "#### Note:\n",
    "\n",
    "Following is the bar chart showing the percentage of patients who received a reminder and those that did not."
   ]
  },
  {
   "cell_type": "code",
   "execution_count": 299,
   "id": "8852dd6a",
   "metadata": {},
   "outputs": [
    {
     "data": {
      "image/png": "[encoded data removed]",
      "text/plain": [
       "<Figure size 576x432 with 1 Axes>"
      ]
     },
     "metadata": {},
     "output_type": "display_data"
    }
   ],
   "source": [
    "# Use numpy to get a range of values for the ticks of x-axis\n",
    "bar = np.arange(len(reminder))\n",
    "\n",
    "# Use numpy to get the tick values of y-axis in percentage.\n",
    "ytick = np.arange(0,110,10)\n",
    "\n",
    "# labels for the tick values of x axis.\n",
    "    # No-Reminder means reminder was sent.\n",
    "    # Sent-Reminder means no reminder was sent.\n",
    "xlabels = [\"No-Reminder\", \"Sent-Reminder\"]\n",
    "\n",
    "# Shape of bar chart.\n",
    "plt.figure(figsize=(8,6))\n",
    "\n",
    "# Plot bar chart.\n",
    "plt.bar(bar, reminder, width= 0.4, alpha=0.7)\n",
    "\n",
    "# Title for the bar chart.\n",
    "plt.title(\"Percentage of patients that Received a Reminder and Patients that didn't\\n\", fontsize=15)\n",
    "\n",
    "# Set tick values for x-axis.\n",
    "plt.yticks(ytick)\n",
    "\n",
    "# Set tick values for x-axis.\n",
    "plt.xticks(bar, xlabels, fontsize=12)\n",
    "\n",
    "# Set labels  for both x and y axis.\n",
    "plt.xlabel(\"Reminder\", fontsize=13)\n",
    "plt.ylabel(\"Percentage\", fontsize=13)\n",
    "\n",
    "\n",
    "# Call function to add percentage values to the top of the bar chart.\n",
    "addlabel(bar, reminder)\n",
    "\n",
    "# Display chart.\n",
    "plt.show()"
   ]
  },
  {
   "cell_type": "markdown",
   "id": "dac3cb01",
   "metadata": {},
   "source": [
    "#### Observation:\n",
    "\n",
    "In the above code, I found that 72.41% of patients who received a reminder showed up for their appointments.\n",
    "While 70.58 perecnt of patients who didn't receive a reminder showed up.\n",
    "\n",
    "That's not a big difference.\n",
    "The reminder might have only increase the show-up rate by about 2%. \n",
    "\n",
    "In the next set of codes, I will narrow the exploration and consider patients suffering from a certain disease.\n",
    "I will find out how receiving a reminder might make them show up."
   ]
  },
  {
   "cell_type": "markdown",
   "id": "3505c836",
   "metadata": {},
   "source": [
    "#### Note:\n",
    "\n",
    "Following is the Average percentage of hypertension and non-hypertension patients who showed up for their appointments that either receive a reminder or not.\n",
    "After, I will take the visualisation of the findings on a bar chart."
   ]
  },
  {
   "cell_type": "code",
   "execution_count": 300,
   "id": "36e796a2",
   "metadata": {
    "scrolled": false
   },
   "outputs": [
    {
     "data": {
      "text/plain": [
       "reminder  hypertension\n",
       "0         0               69.11\n",
       "          1               75.69\n",
       "1         0               71.19\n",
       "          1               77.52\n",
       "Name: show_up, dtype: float64"
      ]
     },
     "execution_count": 300,
     "metadata": {},
     "output_type": "execute_result"
    }
   ],
   "source": [
    "# The average percentage of hypertension and non-hypertension patients who showed up that either receive a reminder or not\n",
    "# I will then use numpy to round up the result to two decimal places.\n",
    "\n",
    "\n",
    "# rem_hyper stands for the percentage value of  hypertension and non-hypertension patients who showed up that either receive a reminder or not\n",
    "df.groupby([\"reminder\", \"hypertension\"])[\"show_up\"].mean()\n",
    "rem_hyper = np.round(df.groupby([\"reminder\", \"hypertension\"])[\"show_up\"].mean() * 100, 2)\n",
    "rem_hyper"
   ]
  },
  {
   "cell_type": "code",
   "execution_count": 301,
   "id": "4c56f70e",
   "metadata": {
    "scrolled": true
   },
   "outputs": [
    {
     "data": {
      "text/plain": [
       "(hypertension\n",
       " 0    69.11\n",
       " 1    75.69\n",
       " Name: show_up, dtype: float64,\n",
       " hypertension\n",
       " 0    71.19\n",
       " 1    77.52\n",
       " Name: show_up, dtype: float64)"
      ]
     },
     "execution_count": 301,
     "metadata": {},
     "output_type": "execute_result"
    }
   ],
   "source": [
    "# no_reminder represents non-hypertension patients who didn't receive a reminder.\n",
    "no_reminder = rem_hyper[0]\n",
    "\n",
    "# sent_reminder represents non-hypertension patients who receive a reminder.\n",
    "\n",
    "sent_reminder = rem_hyper[1]\n",
    "no_reminder, sent_reminder"
   ]
  },
  {
   "cell_type": "markdown",
   "id": "387a2adc",
   "metadata": {},
   "source": [
    "#### Note:\n",
    "\n",
    "Following is a bar chart showing the visualisation of the above data.\n",
    "\n",
    "Please, note that **Positive** on the x-axis label represents Patients suffering from hypertension and\n",
    "**Negative** represents patients who have no hypertension."
   ]
  },
  {
   "cell_type": "code",
   "execution_count": 302,
   "id": "157d84f7",
   "metadata": {},
   "outputs": [],
   "source": [
    "# Use numpy to get a range of numbers for the tick values of x-axis.\n",
    "bar = np.arange(len(no_reminder))\n",
    "bar\n",
    "# width of the bars.\n",
    "width= 0.2\n",
    "\n",
    "# label for the tick values of x-axis.\n",
    "xlabel = [\"Negative\", \"Positive\"]\n",
    "\n",
    "# tick values of the y-axis.\n",
    "# I use 0 to 100 as the tick values to depict percentage values.\n",
    "ytick = np.arange(0,110,10)"
   ]
  },
  {
   "cell_type": "code",
   "execution_count": 303,
   "id": "afaa86b3",
   "metadata": {},
   "outputs": [
    {
     "data": {
      "image/png": "[encoded data removed]",
      "text/plain": [
       "<Figure size 720x576 with 1 Axes>"
      ]
     },
     "metadata": {},
     "output_type": "display_data"
    }
   ],
   "source": [
    "\n",
    "# Create a figure and axis for the bar chart.\n",
    "fig, ax = plt.subplots(figsize=(10,8))\n",
    "\n",
    "# plot bar charts.\n",
    "sent_reminder_bar = ax.bar(bar-width/2, sent_reminder, width, label=\"sent_reminder\")\n",
    "no_reminder_bar = ax.bar(bar+width/2, no_reminder, width, label=\"no_reminder\")\n",
    "\n",
    "# Add corresponding percentage values to the top of the bars.\n",
    "ax.bar_label(sent_reminder_bar, padding=3)\n",
    "ax.bar_label(no_reminder_bar, padding=3)\n",
    "\n",
    "# Set title\n",
    "ax.set_title(\"Percentage of hypertensive and non-hypertensive patients that showed up \\n That either received a reminder or not.\", fontsize=15)\n",
    "\n",
    "# Set labels for x and y axis.\n",
    "ax.set_xlabel(\"Patients\",fontsize=13)\n",
    "ax.set_ylabel(\"Percentage\", fontsize=13)\n",
    "\n",
    "# Set tick values for both x and y-axis.\n",
    "ax.set_xticks(bar)\n",
    "ax.set_yticks(ytick)\n",
    "\n",
    "# Set label for the tick values of x-axis.\n",
    "ax.set_xticklabels(xlabel,fontsize=12)\n",
    "\n",
    "# Show legend.\n",
    "plt.legend()\n",
    "\n",
    "# Display bar chart.\n",
    "plt.show()"
   ]
  },
  {
   "cell_type": "code",
   "execution_count": 304,
   "id": "858d6d10",
   "metadata": {},
   "outputs": [
    {
     "data": {
      "text/plain": [
       "reminder  hypertension\n",
       "0         0               69.11\n",
       "          1               75.69\n",
       "1         0               71.19\n",
       "          1               77.52\n",
       "Name: show_up, dtype: float64"
      ]
     },
     "execution_count": 304,
     "metadata": {},
     "output_type": "execute_result"
    }
   ],
   "source": [
    "rem_hyper"
   ]
  },
  {
   "cell_type": "markdown",
   "id": "62c29549",
   "metadata": {},
   "source": [
    "### Observation:\n",
    "\n",
    "I observe that reminder increased the rate at which patients showed up for their appointments by around 2%.\n",
    "Same impact for those hypertension and non-hypertension patient. "
   ]
  },
  {
   "cell_type": "code",
   "execution_count": null,
   "id": "6723d3f9",
   "metadata": {},
   "outputs": [],
   "source": []
  },
  {
   "cell_type": "markdown",
   "id": "6113422c",
   "metadata": {},
   "source": [
    "#### Note:\n",
    "\n",
    "Next, I will move to find the average percentage of diabetes and non-diabetes patients who showed up and either received a reminder or not.\n",
    "\n",
    "I will then show my findings on a bar chart."
   ]
  },
  {
   "cell_type": "code",
   "execution_count": 305,
   "id": "bd684103",
   "metadata": {},
   "outputs": [
    {
     "data": {
      "text/plain": [
       "reminder  diabetes\n",
       "0         0           70.30\n",
       "          1           73.63\n",
       "1         0           72.10\n",
       "          1           76.89\n",
       "Name: show_up, dtype: float64"
      ]
     },
     "execution_count": 305,
     "metadata": {},
     "output_type": "execute_result"
    }
   ],
   "source": [
    "# The average percentage of diabetic and non-diabetic patients who showed up and either received a reminder or not.\n",
    "# Use Numpy to round result to two decimal places.\n",
    "\n",
    "rem_dia =np.round(df.groupby([\"reminder\", \"diabetes\"])[\"show_up\"].mean() * 100, 2)\n",
    "rem_dia"
   ]
  },
  {
   "cell_type": "code",
   "execution_count": 306,
   "id": "e20af63c",
   "metadata": {},
   "outputs": [
    {
     "data": {
      "text/plain": [
       "diabetes\n",
       "0    72.10\n",
       "1    76.89\n",
       "Name: show_up, dtype: float64"
      ]
     },
     "execution_count": 306,
     "metadata": {},
     "output_type": "execute_result"
    }
   ],
   "source": [
    "# Percentage of patients who received a reminder for both diabetic and non-diabetic patients and showed up.\n",
    "sent_reminder_dia =rem_dia[1]\n",
    "sent_reminder_dia"
   ]
  },
  {
   "cell_type": "code",
   "execution_count": 307,
   "id": "029c43d5",
   "metadata": {},
   "outputs": [
    {
     "data": {
      "text/plain": [
       "diabetes\n",
       "0    70.30\n",
       "1    73.63\n",
       "Name: show_up, dtype: float64"
      ]
     },
     "execution_count": 307,
     "metadata": {},
     "output_type": "execute_result"
    }
   ],
   "source": [
    "# Percentage of patients who didn't  receive a reminder for both diabetic and non-diabetic patients but showed up.\n",
    "no_reminder_dia =rem_dia[0]\n",
    "no_reminder_dia"
   ]
  },
  {
   "cell_type": "code",
   "execution_count": 308,
   "id": "39290f2f",
   "metadata": {},
   "outputs": [
    {
     "data": {
      "text/plain": [
       "array([0, 1])"
      ]
     },
     "execution_count": 308,
     "metadata": {},
     "output_type": "execute_result"
    }
   ],
   "source": [
    "# Import numpy library to get the ticks of the x-axis\n",
    "\n",
    "bar = np.arange(len(sent_reminder_dia))\n",
    "bar"
   ]
  },
  {
   "cell_type": "code",
   "execution_count": 309,
   "id": "9f9f7c3f",
   "metadata": {},
   "outputs": [
    {
     "data": {
      "image/png": "[encoded data removed]",
      "text/plain": [
       "<Figure size 720x576 with 1 Axes>"
      ]
     },
     "metadata": {},
     "output_type": "display_data"
    }
   ],
   "source": [
    "# create figure and axis to plot the bar chart.\n",
    "fig, ax = plt.subplots(figsize=(10,8))\n",
    "\n",
    "# bar chart showing percentage of Diabetes and non-diabetes patients who received a reminder and those that didn't\n",
    "\n",
    "# sent_reminderDia represents bar chart of diabetic/non-diabetic patients who received a remender.\n",
    "sent_reminderDia_bar = ax.bar(bar-width/2, sent_reminder_dia, width, label=\"sent_reminder\")\n",
    "\n",
    "# no_reminderDia represents bar chart of diabetic/non-diabetic patients who didn't received a remender.\n",
    "no_reminderDia_bar = ax.bar(bar+width/2, no_reminder_dia, width, label=\"no_reminder\")\n",
    "\n",
    "# value label of the bars\n",
    "ax.bar_label(sent_reminderDia_bar, padding=3)\n",
    "ax.bar_label(no_reminderDia_bar, padding=3)\n",
    "\n",
    "# Set title\n",
    "ax.set_title(\"Percentage of Diabetic\\\\Non-Diabetic patients that Showed up\\nAnd either  Received a Reminder or Not.\", fontsize=17)\n",
    "\n",
    "#Set x and y axis label\n",
    "ax.set_xlabel(\"Patients\",fontsize=13)\n",
    "ax.set_ylabel(\"Percentage\", fontsize=13)\n",
    "\n",
    "#Set x and y axis tick\n",
    "ax.set_xticks(bar)\n",
    "ax.set_yticks(ytick)\n",
    "\n",
    "# Set tick label for x axis.\n",
    "ax.set_xticklabels(xlabel,fontsize=12)\n",
    "\n",
    "# Show legend\n",
    "plt.legend()\n",
    "\n",
    "# Display chart\n",
    "plt.show()"
   ]
  },
  {
   "cell_type": "markdown",
   "id": "3eb76a68",
   "metadata": {},
   "source": [
    "#### Observation:\n",
    "\n",
    "I observe that reminder increased the rate at which diabetic/non-diabetic patients showed up for their appointments by around 2% to 3%. \n",
    "\n",
    "Non-diabetic patients showed up more when they received a reminder by 2 percent while diabetic patients showed up more when they received a reminder. The increase is by 3 percent."
   ]
  },
  {
   "cell_type": "markdown",
   "id": "1de46271",
   "metadata": {},
   "source": [
    "#### Note:\n",
    "\n",
    "Next, I will seek to find the average percentage of alcoholic and non-alcoholic patients who showed up and either received a reminder or not.\n",
    "\n",
    "I will then show my findings on a bar chart."
   ]
  },
  {
   "cell_type": "code",
   "execution_count": 310,
   "id": "5ec545ad",
   "metadata": {
    "scrolled": true
   },
   "outputs": [
    {
     "data": {
      "text/plain": [
       "reminder  alcoholism\n",
       "0         0             70.74\n",
       "          1             64.71\n",
       "1         0             72.54\n",
       "          1             67.26\n",
       "Name: show_up, dtype: float64"
      ]
     },
     "execution_count": 310,
     "metadata": {},
     "output_type": "execute_result"
    }
   ],
   "source": [
    "# The percentage average of alcoholism and non-alcoholism patients who showed up and either received a reminder or not.\n",
    "# Use Numpy to round up result to two decimal places.\n",
    "\n",
    "rem_alc=  np.round(df.groupby([\"reminder\", \"alcoholism\"])[\"show_up\"].mean() * 100, 2)\n",
    "\n",
    "rem_alc"
   ]
  },
  {
   "cell_type": "code",
   "execution_count": 311,
   "id": "dc49a20d",
   "metadata": {},
   "outputs": [],
   "source": [
    "# Percentage of patients who received a reminder for both Alcoholic and  and non-alcoholic patients\n",
    "sent_reminder_alc = rem_alc[1]\n",
    "\n",
    "# Percentage of patients who received a reminder for both Alcoholic and  and non-alcoholic patients\n",
    "\n",
    "no_reminder_alc =  rem_alc[0]"
   ]
  },
  {
   "cell_type": "code",
   "execution_count": 312,
   "id": "83b6618e",
   "metadata": {},
   "outputs": [
    {
     "data": {
      "text/plain": [
       "alcoholism\n",
       "0    70.74\n",
       "1    64.71\n",
       "Name: show_up, dtype: float64"
      ]
     },
     "execution_count": 312,
     "metadata": {},
     "output_type": "execute_result"
    }
   ],
   "source": [
    "no_reminder_alc"
   ]
  },
  {
   "cell_type": "code",
   "execution_count": 313,
   "id": "182b2dcd",
   "metadata": {},
   "outputs": [
    {
     "data": {
      "text/plain": [
       "alcoholism\n",
       "0    72.54\n",
       "1    67.26\n",
       "Name: show_up, dtype: float64"
      ]
     },
     "execution_count": 313,
     "metadata": {},
     "output_type": "execute_result"
    }
   ],
   "source": [
    "sent_reminder_alc"
   ]
  },
  {
   "cell_type": "code",
   "execution_count": null,
   "id": "41f7a32a",
   "metadata": {},
   "outputs": [],
   "source": []
  },
  {
   "cell_type": "markdown",
   "id": "d1dab93e",
   "metadata": {},
   "source": [
    "#### Note:\n",
    "\n",
    "Following are the codes that plot the percentage values on a bar chart."
   ]
  },
  {
   "cell_type": "code",
   "execution_count": 314,
   "id": "f2d3e2a1",
   "metadata": {
    "scrolled": true
   },
   "outputs": [
    {
     "data": {
      "text/plain": [
       "array([  0,  10,  20,  30,  40,  50,  60,  70,  80,  90, 100])"
      ]
     },
     "execution_count": 314,
     "metadata": {},
     "output_type": "execute_result"
    }
   ],
   "source": [
    "# Use numpy to get the tick values of x-axis \n",
    "bar = np.arange(len(sent_reminder_alc))\n",
    "\n",
    "# Use Numpy to get the tick values for y axis. Note that values are in percentage.\n",
    "ytick = np.arange(0,110,10)\n",
    "ytick"
   ]
  },
  {
   "cell_type": "code",
   "execution_count": 315,
   "id": "82bd426d",
   "metadata": {},
   "outputs": [
    {
     "data": {
      "image/png": "[encoded data removed]",
      "text/plain": [
       "<Figure size 720x576 with 1 Axes>"
      ]
     },
     "metadata": {},
     "output_type": "display_data"
    }
   ],
   "source": [
    "# Create a figure and axis where the bar chart will be plotted.\n",
    "fig, ax = plt.subplots(figsize=(10,8))\n",
    "\n",
    "# bar chart showing percentage of alcoholic and non-alcoholic patients who received a reminder and those that didn't\n",
    "sent_reminderAlc_bar = ax.bar(bar-width/2, sent_reminder_alc, width, label=\"sent_reminder\")\n",
    "no_reminderAlc_bar = ax.bar(bar+width/2, no_reminder_alc, width, label=\"no_reminder\")\n",
    "\n",
    "# Place percentage values on top of the bars.\n",
    "ax.bar_label(sent_reminderAlc_bar, padding=3)\n",
    "ax.bar_label(no_reminderAlc_bar, padding=3)\n",
    "\n",
    "# Set title\n",
    "ax.set_title(\"Percentage of Alcoholic and non-Alcoholic patients\\n Who received a reminder and those that didn't.\", fontsize=15)\n",
    "\n",
    "#Set x and y axis label\n",
    "ax.set_xlabel(\"Patients\",fontsize=13)\n",
    "ax.set_ylabel(\"Percentage\", fontsize=13)\n",
    "\n",
    "#Set x and y-axis tick\n",
    "ax.set_xticks(bar)\n",
    "ax.set_yticks(ytick)\n",
    "\n",
    "# Set tick label for x axis.\n",
    "ax.set_xticklabels(xlabel,fontsize=12)\n",
    "\n",
    "# Show legend\n",
    "plt.legend()\n",
    "\n",
    "# Display chart\n",
    "plt.show()"
   ]
  },
  {
   "cell_type": "code",
   "execution_count": 316,
   "id": "f384f43f",
   "metadata": {
    "scrolled": true
   },
   "outputs": [
    {
     "data": {
      "text/plain": [
       "reminder  alcoholism\n",
       "0         0             70.74\n",
       "          1             64.71\n",
       "1         0             72.54\n",
       "          1             67.26\n",
       "Name: show_up, dtype: float64"
      ]
     },
     "execution_count": 316,
     "metadata": {},
     "output_type": "execute_result"
    }
   ],
   "source": [
    "rem_alc"
   ]
  },
  {
   "cell_type": "markdown",
   "id": "36e704f5",
   "metadata": {},
   "source": [
    "#### Observation:\n",
    "\n",
    "I observe that reminder increased the rate at which non-alcoholic patients showed up for their appointments by around 2%. \n",
    "\n",
    "Unusually, the show up rate dropped by 3% for  alcoholic patients."
   ]
  },
  {
   "cell_type": "markdown",
   "id": "3968a485",
   "metadata": {},
   "source": [
    "#### Note:\n",
    "\n",
    "Next, I will seek to find the average percentage of handicapped and non-handicapped patients who showed up and either received a reminder or not.\n",
    "\n",
    "I will then show my findings on a bar chart."
   ]
  },
  {
   "cell_type": "code",
   "execution_count": 317,
   "id": "3981522e",
   "metadata": {
    "scrolled": true
   },
   "outputs": [
    {
     "data": {
      "text/plain": [
       "reminder  handicap\n",
       "0         0           70.48\n",
       "          1           75.43\n",
       "1         0           72.39\n",
       "          1           74.23\n",
       "Name: show_up, dtype: float64"
      ]
     },
     "execution_count": 317,
     "metadata": {},
     "output_type": "execute_result"
    }
   ],
   "source": [
    "# The percentage average of handicap and non-handicapped patients who showed up and either received a reminder or not.\n",
    "# Use numpy to round up the value to two decimal places.\n",
    "\n",
    "rem_handicap = np.round(df.groupby([\"reminder\", \"handicap\"])[\"show_up\"].mean() * 100, 2)\n",
    "rem_handicap"
   ]
  },
  {
   "cell_type": "code",
   "execution_count": 318,
   "id": "fa3cb66b",
   "metadata": {},
   "outputs": [],
   "source": [
    "# Percentage average of handicapped/non-handicapped patients who was sent a reminder.\n",
    "sent_reminder_handicap = rem_handicap[1]\n",
    "\n",
    "# Percentage average of handicapped/non-handicapped patients who didn't receive a reminder.\n",
    "no_reminder_handicap = rem_handicap[0]"
   ]
  },
  {
   "cell_type": "code",
   "execution_count": 319,
   "id": "65c99861",
   "metadata": {},
   "outputs": [
    {
     "data": {
      "text/plain": [
       "handicap\n",
       "0    70.48\n",
       "1    75.43\n",
       "Name: show_up, dtype: float64"
      ]
     },
     "execution_count": 319,
     "metadata": {},
     "output_type": "execute_result"
    }
   ],
   "source": [
    "no_reminder_handicap"
   ]
  },
  {
   "cell_type": "code",
   "execution_count": 320,
   "id": "2698a78c",
   "metadata": {
    "scrolled": false
   },
   "outputs": [
    {
     "data": {
      "text/plain": [
       "handicap\n",
       "0    72.39\n",
       "1    74.23\n",
       "Name: show_up, dtype: float64"
      ]
     },
     "execution_count": 320,
     "metadata": {},
     "output_type": "execute_result"
    }
   ],
   "source": [
    "sent_reminder_handicap"
   ]
  },
  {
   "cell_type": "markdown",
   "id": "be3668f7",
   "metadata": {},
   "source": [
    "#### Note:\n",
    "\n",
    "Following are the codes that plot the percentage values on a bar chart."
   ]
  },
  {
   "cell_type": "code",
   "execution_count": 321,
   "id": "b3e33af0",
   "metadata": {},
   "outputs": [
    {
     "data": {
      "text/plain": [
       "array([0, 1])"
      ]
     },
     "execution_count": 321,
     "metadata": {},
     "output_type": "execute_result"
    }
   ],
   "source": [
    "#Use the previous value of ytick and and xtick(bar) in declared previously\n",
    "\n",
    "ytick\n",
    "bar"
   ]
  },
  {
   "cell_type": "code",
   "execution_count": 322,
   "id": "1c95e95f",
   "metadata": {
    "scrolled": true
   },
   "outputs": [
    {
     "data": {
      "image/png": "[encoded data removed]",
      "text/plain": [
       "<Figure size 720x576 with 1 Axes>"
      ]
     },
     "metadata": {},
     "output_type": "display_data"
    }
   ],
   "source": [
    "# shape of bar chart.\n",
    "fig, ax = plt.subplots(figsize=(10,8))\n",
    "\n",
    "# bar chart showing percentage of handicapped and non-handicapped patients who either received a reminder or not.\n",
    "sent_reminderHc_bar = ax.bar(bar-width/2, sent_reminder_handicap, width, label=\"sent_reminder\")\n",
    "no_reminderHc_bar = ax.bar(bar+width/2, no_reminder_handicap, width, label=\"no_reminder\")\n",
    "\n",
    "# Place percentage values on top of the bars\n",
    "ax.bar_label(sent_reminderHc_bar, padding=3)\n",
    "ax.bar_label(no_reminderHc_bar, padding=3)\n",
    "\n",
    "# Set title\n",
    "ax.set_title(\"Percentage of Handicapped and non-handicapped patients\\n Who Either received a reminder or not.\", fontsize=15)\n",
    "\n",
    "#Set x and y axis label\n",
    "ax.set_xlabel(\"Patients\",fontsize=13)\n",
    "ax.set_ylabel(\"Percentage\", fontsize=13)\n",
    "\n",
    "#Set x and y axis tick\n",
    "ax.set_xticks(bar)\n",
    "ax.set_yticks(ytick)\n",
    "\n",
    "# Set tick label for x axis.\n",
    "ax.set_xticklabels(xlabel,fontsize=12)\n",
    "\n",
    "# Show legend\n",
    "plt.legend()\n",
    "\n",
    "# Display chart\n",
    "plt.show()"
   ]
  },
  {
   "cell_type": "code",
   "execution_count": 323,
   "id": "09222d36",
   "metadata": {
    "scrolled": true
   },
   "outputs": [
    {
     "data": {
      "text/plain": [
       "reminder  handicap\n",
       "0         0           70.48\n",
       "          1           75.43\n",
       "1         0           72.39\n",
       "          1           74.23\n",
       "Name: show_up, dtype: float64"
      ]
     },
     "execution_count": 323,
     "metadata": {},
     "output_type": "execute_result"
    }
   ],
   "source": [
    "rem_handicap"
   ]
  },
  {
   "cell_type": "markdown",
   "id": "754c86ea",
   "metadata": {},
   "source": [
    "#### Observation:\n",
    "\n",
    "I observe that reminder increased the rate at which non-handicapped patients showed up for their appointments by around 2%.\n",
    "\n",
    "Unusually, the show up rate dropped by 1% for handicapped patients."
   ]
  },
  {
   "cell_type": "code",
   "execution_count": null,
   "id": "cc7573fd",
   "metadata": {},
   "outputs": [],
   "source": []
  },
  {
   "cell_type": "markdown",
   "id": "cb1221f2",
   "metadata": {},
   "source": [
    "### Research Question 6\n",
    "\n",
    "#### Is long waiting time the reason patients didn't show up for their appointment?\n"
   ]
  },
  {
   "cell_type": "markdown",
   "id": "36112c1f",
   "metadata": {},
   "source": [
    "In this section, we will explore the waiting hour column and find if there is any correlation with those that showed up and those that didn't show up for their appointments in respect to the number of hours they waited before appointment day."
   ]
  },
  {
   "cell_type": "code",
   "execution_count": 324,
   "id": "325f1f14",
   "metadata": {},
   "outputs": [
    {
     "data": {
      "text/plain": [
       "348.0"
      ]
     },
     "execution_count": 324,
     "metadata": {},
     "output_type": "execute_result"
    }
   ],
   "source": [
    "# The average waiting hours of patients that showed up for their appointments.\n",
    "# Use numpy to round to two decimal places.\n",
    "\n",
    "df[\"waiting_time\"][show].mean()\n",
    "avg_hour_present = np.round(df[\"waiting_hour\"][show].mean())\n",
    "\n",
    "avg_hour_present"
   ]
  },
  {
   "cell_type": "code",
   "execution_count": 325,
   "id": "9d69c822",
   "metadata": {
    "scrolled": false
   },
   "outputs": [
    {
     "data": {
      "text/plain": [
       "401.0"
      ]
     },
     "execution_count": 325,
     "metadata": {},
     "output_type": "execute_result"
    }
   ],
   "source": [
    "# The average waiting hours of patients that refuse to show up for their appointments.\n",
    "# Use numpy to round to two decimal places.\n",
    "\n",
    "df[\"waiting_time\"][not_show].mean()\n",
    "\n",
    "avg_hour_absent = np.round(df[\"waiting_hour\"][not_show].mean())\n",
    "avg_hour_absent"
   ]
  },
  {
   "cell_type": "markdown",
   "id": "40d42097",
   "metadata": {},
   "source": [
    "#### Observation:\n",
    "\n",
    "I observe from the above result that patients who didn't show up for their appointments waited a bit longer than patients that showed up.\n",
    "348 hours vs 401 hours on average.\n",
    "\n",
    "Can long waiting time be the reason patients didn't show up for their appointments?\n",
    "\n",
    "The numbers are close. I cant't draw anything from that yet.\n",
    "I'll explore more in the following cells to see the distribution of the waiting hours of patients who showed up and patients who didn't show up for their appointments.\n",
    "\n",
    "Again, note that **Absent** represents patients who didn't show up for their appointment.\n",
    "\n",
    "While **Present** represents patients who showed up for their appointment in the label of the chart."
   ]
  },
  {
   "cell_type": "code",
   "execution_count": 326,
   "id": "44b79868",
   "metadata": {},
   "outputs": [],
   "source": [
    "# values of the bars\n",
    "value = [avg_hour_absent, avg_hour_present]\n",
    "\n",
    "# use numpy to get a range of value for the tick values of x-axis.\n",
    "bar = np.arange(len(value))\n",
    "\n",
    "#  label of the tick value of x-axis.\n",
    "xlabel = [\"Absent\", \"Present\"]"
   ]
  },
  {
   "cell_type": "code",
   "execution_count": 327,
   "id": "3bfe7b32",
   "metadata": {},
   "outputs": [
    {
     "data": {
      "image/png": "[encoded data removed]",
      "text/plain": [
       "<Figure size 576x432 with 1 Axes>"
      ]
     },
     "metadata": {},
     "output_type": "display_data"
    }
   ],
   "source": [
    "# shape of the bar chart.\n",
    "plt.figure(figsize=(8,6))\n",
    "\n",
    "# Bar chart for average waiting hours of patients as present and absent for their appointments\n",
    "waiting_hour_average = plt.bar(bar, value, width=0.4, alpha=0.6)\n",
    "\n",
    "# Put the values on top of the bar chart.\n",
    "plt.bar_label(waiting_hour_average, padding=3)\n",
    "\n",
    "# Bar chart Title\n",
    "plt.title(\"Average waiting hours of patients as present and absent for their appointments\\n\", fontsize=15)\n",
    "\n",
    "# label of x-axis\n",
    "plt.xlabel(\"Patients\", fontsize=14)\n",
    "\n",
    "# label of y-axis\n",
    "plt.ylabel(\"Average Waiting hours\", fontsize=13)\n",
    "\n",
    "# label of the ticks of x axis\n",
    "plt.xticks(bar, xlabel, fontsize=13)\n",
    "\n",
    "# Display bar chart.\n",
    "plt.show()\n"
   ]
  },
  {
   "cell_type": "markdown",
   "id": "7a9f7078",
   "metadata": {},
   "source": [
    "#### Observation:\n",
    " \n",
    " The above bar chart lends credence to the fact that more patients who are absent for their appointment had a longer waiting time than those who are present."
   ]
  },
  {
   "cell_type": "markdown",
   "id": "6443b4d5",
   "metadata": {},
   "source": [
    "#### Note:\n",
    "\n",
    "I will explore this more by showing the distribution of the waiting hours of patients who showed up for their appointments and those that didn't in the entire dataset."
   ]
  },
  {
   "cell_type": "code",
   "execution_count": 328,
   "id": "f731cf93",
   "metadata": {},
   "outputs": [
    {
     "data": {
      "image/png": "[encoded data removed]",
      "text/plain": [
       "<Figure size 720x720 with 1 Axes>"
      ]
     },
     "metadata": {},
     "output_type": "display_data"
    }
   ],
   "source": [
    "# The distribution of the waiting hours of patients who showed up for their appointments and those that didn't.\n",
    "\n",
    "# Histogram distribution of the waiting hours of patients that showed up.\n",
    "df[\"waiting_hour\"][show].hist(label = \"show up\", figsize=(10,10), color=\"blue\", alpha=0.5) \n",
    "\n",
    "\n",
    "# Histogram distribution of the waiting hours of patients that didn't showed up.\n",
    "df[\"waiting_hour\"][not_show].hist(label=\"no-show\", figsize=(10,10), color=\"red\", alpha=0.5)\n",
    "\n",
    "# Set title \n",
    "plt.title(\"Waiting  Hours of Patients that showed up for their appointments\", fontsize=14)\n",
    "\n",
    "# Set label for x a-axis.\n",
    "plt.xlabel(\"waiting hours\", fontsize=13)\n",
    "\n",
    "# Set label for y a-axis.\n",
    "plt.ylabel(\"Number of Patients\", fontsize=13)\n",
    "\n",
    "# Show legend\n",
    "plt.legend()\n",
    "\n",
    "# Display histogram distribution.\n",
    "\n",
    "plt.show()"
   ]
  },
  {
   "cell_type": "markdown",
   "id": "7953650f",
   "metadata": {},
   "source": [
    "#### Observation:\n",
    "From the distribution, I observe that there is no strong correlation between the waiting hours of patients that showed up and those that didn't.\n",
    "The waiting hours may not be the reason patients showed up and didn't.\n",
    "\n",
    "Both patients waiting hours are almost close. their spread covers the same area on the histogram.\n",
    "No surprises that the waiting hours for those that showed up is thicker and has higher frequency values on the histogram. \n",
    "Of course, More patients showed up in the dataset than patients that didn't. I have shown this in the previous explorations.\n",
    "\n",
    "I must also mention that both histogram are skewed to the right. They both have the same maximum value. This is unclear in the histogram because they both have little number of patients, especially for the value of the waiting hours for those who didn't show up.\n",
    "In the next cell, I'll show that they both have the same highest values."
   ]
  },
  {
   "cell_type": "code",
   "execution_count": 329,
   "id": "fc93e4d0",
   "metadata": {
    "scrolled": true
   },
   "outputs": [
    {
     "data": {
      "text/plain": [
       "4285.0"
      ]
     },
     "execution_count": 329,
     "metadata": {},
     "output_type": "execute_result"
    }
   ],
   "source": [
    "# Maximum waiting hour for patients who showed up for their appointments.\n",
    "df[\"waiting_hour\"][show].max()"
   ]
  },
  {
   "cell_type": "code",
   "execution_count": 330,
   "id": "bf7aac8a",
   "metadata": {},
   "outputs": [
    {
     "data": {
      "text/plain": [
       "4285.0"
      ]
     },
     "execution_count": 330,
     "metadata": {},
     "output_type": "execute_result"
    }
   ],
   "source": [
    "# Maximum waiting hour for patients who didn't show up for their appointments.\n",
    "\n",
    "df[\"waiting_hour\"][not_show].max()"
   ]
  },
  {
   "cell_type": "code",
   "execution_count": 331,
   "id": "c3811a5a",
   "metadata": {
    "scrolled": false
   },
   "outputs": [
    {
     "name": "stdout",
     "output_type": "stream",
     "text": [
      "Maximum values of waiting hours for both patients who showed up and those that didn't:\n"
     ]
    },
    {
     "data": {
      "text/plain": [
       "(4285.0, 4285.0)"
      ]
     },
     "execution_count": 331,
     "metadata": {},
     "output_type": "execute_result"
    }
   ],
   "source": [
    "#The maximum values of the waiting hours of those that show up and didn't show up for their appointments\n",
    "print(\"Maximum values of waiting hours for both patients who showed up and those that didn't:\")\n",
    "\n",
    "df[\"waiting_hour\"][show].max(), df[\"waiting_hour\"][not_show].max()"
   ]
  },
  {
   "cell_type": "markdown",
   "id": "9c75d06c",
   "metadata": {},
   "source": [
    "<a id='conclusions'></a>\n",
    "### Conclusions\n",
    "\n",
    "\n",
    "\n",
    "\n",
    "\n",
    "In my explorations, I found that there is no much difference between the age of patients that showed up and those that didn't. However, on average, patients who showed up  for their appointments are five year older than patients who didn't show up.\n",
    "\n",
    "\n",
    "\n",
    "There is almost no difference between the total percentage of both genders that showed up for their appointments.\n",
    "The female gender showed up 71.6% on average while the male showed up 71.3% on average.\n",
    "\n",
    "\n",
    "\n",
    "On exploring the free_health_care variable, I found that patients who do not enjoy free medical aid showed up more than patients who have access to free medical aid. They showed up at 7% rate on average more than patients who have access to free medical aid.\n",
    "\n",
    "Lack of funds for medical care may not be the reason patients didn't show up for their appointments. Although, I can't conclude absolutely on this as there may be other factors that contribute to that which I didn't consider in my exploration.\n",
    "\n",
    "\n",
    "Could it be that some patients who have access to free medical care seem not to take their appointment serious because they are not paying for their bill? \n",
    "I can't tell precisely as my analysis is limited to few variables and I didn't carry out my analysis with inferential statistics or machine learning.\n",
    "\n",
    "\n",
    "\n",
    "I also found out that more patients suffering from hypertension showed up for their appointments than patients who has no hypertension at a 6 percent rate.\n",
    "\n",
    "Patients suffering from diabetes showed up for their appointments 4 percent more than patients who are not diabetic. Similarly, handicapped patients also showed up for their appointments 3% more than patients who are not handicapped.\n",
    "\n",
    "\n",
    "\n",
    "The patients suffering from one ailments or the other provided in the dataset showed up more for their appointments more than patients who are not suffering from the ailment. However, an exception are patients who have alcoholism tendency.\n",
    "\n",
    "Patients who have no alcoholic tendency appear to show up more for their appointment than alcoholic patients by around 6%.\n",
    "\n",
    "hypertension patients tend to show up than any other patients in the dataset.They showed up for their appointment at 76.53% rate while alcoholic patients tend to show up the least for their appointments. They showed up at only 66% rate.\n",
    "\n",
    "\n",
    "\n",
    "I explore how patients suffering from a certain ailments showed up for their appointment, considering whether they received a reminder or not. \n",
    "Generally speaking, I found that reminder increased the rate at which patients showed up for their appointments by 2% rate on average.\n",
    "It's not a big difference though.\n",
    "\n",
    "\n",
    "I found that reminder increased the rate at which both hypertensive and non-hypertensive patients showed up for their appointments by around 2%. Similar thing occured for diabetic and non-diabetic patients. The increase was around 2 to 3% rate on average. \n",
    "\n",
    "\n",
    "\n",
    "Contrarily, I found a different situation for the alcoholism and handicap variable. I found that when they received a reminder, the rate at which they showed up dropped but their show up rate  went up when they didn't receive a reminder.\n",
    "Can it be that they don't care about their health when they are reminded?\n",
    "I could not establish from this analysis that their show up rate dropped because they received a reminder.\n",
    "Establishing that is beyond the scope of this analysis.\n",
    "\n",
    "\n",
    "Lastly, I found out that patients who didn't show up for their appointments waited a bit longer than patients that showed up. 348 hours vs 401 hours on average for the patients. That's over two days difference.\n",
    "I must mention that my analysis could not establish if this difference was the reason they didn't show up for their appointments.\n",
    "\n",
    "\n",
    "\n",
    "I must mention that even though I found that some patients tend to show up for their appointments when they received a reminder, There might be other factors that make them show up which I didn't consider in my analysis.\n",
    "Similarly, I could not conclude absolutely that patients showed up or didn't show up because of one ailments or the other.\n",
    "\n",
    "I must also mention that I didn't consider patients who had more than one ailment. I didn't analyse all of the variables in the dataset with one another, hence I cannot be absolute in my judgement. \n",
    "It may require some advanced data analytic processes such as inferential statistics or machine learning to come out with absolute judgement."
   ]
  },
  {
   "cell_type": "code",
   "execution_count": null,
   "id": "e8e52d3e",
   "metadata": {},
   "outputs": [],
   "source": []
  },
  {
   "cell_type": "code",
   "execution_count": null,
   "id": "70feb792",
   "metadata": {},
   "outputs": [],
   "source": []
  }
 ],
 "metadata": {
  "kernelspec": {
   "display_name": "Python 3 (ipykernel)",
   "language": "python",
   "name": "python3"
  },
  "language_info": {
   "codemirror_mode": {
    "name": "ipython",
    "version": 3
   },
   "file_extension": ".py",
   "mimetype": "text/x-python",
   "name": "python",
   "nbconvert_exporter": "python",
   "pygments_lexer": "ipython3",
   "version": "3.9.7"
  }
 },
 "nbformat": 4,
 "nbformat_minor": 5
}
